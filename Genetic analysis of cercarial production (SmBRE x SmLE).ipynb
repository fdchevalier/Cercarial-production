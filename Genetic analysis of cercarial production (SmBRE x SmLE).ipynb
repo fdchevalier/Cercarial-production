{
 "cells": [
  {
   "cell_type": "markdown",
   "metadata": {},
   "source": [
    "# Genetic analysis of cercarial production (SmBRE x SmLE)\n",
    "\n",
    "\n",
    "## Aim\n",
    "\n",
    "This notebook describes the different analysis done to map QTL related to production of cercariae by high and low shedder schistosomes. This work is the extension of the previous work described in [Le Clec'h *et al.* 2019](https://doi.org/10.1186/s13071-019-3741-z). Here two reciprocal crosses have been conducted between the SmLE, high shedder schistosome, and SmBRE, low shedder schistosome.\n",
    "\n",
    "We analyze the phenotype of the parents, F1s and F2s using different measures (weekly cercariae shed, average cercariae shed) and co-variate (sex). We also analyze how the schistosome phenotype influenced snail traits (hemoglobin rate and phenoloxidase activity). We finally mapped the parasite phenotype on the reference genome. \n",
    "\n",
    "\n",
    "\n",
    "## Environment and data"
   ]
  },
  {
   "cell_type": "code",
   "execution_count": null,
   "metadata": {},
   "outputs": [],
   "source": [
    "conda env create -f .env/env.yml"
   ]
  },
  {
   "cell_type": "markdown",
   "metadata": {},
   "source": [
    "The cell below must be run each time a new Jupyter session is run."
   ]
  },
  {
   "cell_type": "code",
   "execution_count": 1,
   "metadata": {
    "ExecuteTime": {
     "end_time": "2020-06-21T22:07:31.335560Z",
     "start_time": "2020-06-21T22:07:16.480628Z"
    }
   },
   "outputs": [
    {
     "name": "stdout",
     "output_type": "stream",
     "text": [
      "(cerc_prod) "
     ]
    },
    {
     "ename": "",
     "evalue": "1",
     "output_type": "error",
     "traceback": []
    }
   ],
   "source": [
    "# Activate the environment\n",
    "source $(sed \"s,/bin/conda,,\" <<<$CONDA_EXE)/etc/profile.d/conda.sh\n",
    "conda activate cerc_prod\n",
    "\n",
    "# Remove potential variable interferences\n",
    "export PERL5LIB=\"\"\n",
    "export PYTHONNOUSERSITE=1"
   ]
  },
  {
   "cell_type": "markdown",
   "metadata": {},
   "source": [
    "The cell below must be run only once at the time of the environment creation."
   ]
  },
  {
   "cell_type": "code",
   "execution_count": null,
   "metadata": {},
   "outputs": [],
   "source": [
    "# Installing needed R packages\n",
    "Rscript \".env/R package dependencies.R\""
   ]
  },
  {
   "cell_type": "markdown",
   "metadata": {},
   "source": [
    "### Phenotypic data\n",
    "\n",
    "The phenotypic data for the F0 parental population, the F1s and F2s is available on [Zenodo](https://doi.org/10.5281/zenodo.4383248). Data is already present in the repository but can be downloaded if needed."
   ]
  },
  {
   "cell_type": "code",
   "execution_count": null,
   "metadata": {},
   "outputs": [],
   "source": [
    "# Data directory\n",
    "pdir=\"data/phenotypes\"\n",
    "[[ ! -d \"$pdir\" ]] && mkdir -p \"$pdir\"\n",
    "\n",
    "# Download files\n",
    "wget -q -P \"$pdir\" https://zenodo.org/record/4383248/files/F0_parental_populations.csv\n",
    "wget -q -P \"$pdir\" https://zenodo.org/record/4383248/files/F1.csv\n",
    "wget -q -P \"$pdir\" https://zenodo.org/record/4383248/files/F2.csv\n",
    "wget -q -P \"$pdir\" https://zenodo.org/record/4383248/files/sex.tsv"
   ]
  },
  {
   "cell_type": "markdown",
   "metadata": {},
   "source": [
    "### Sequencing data\n",
    "\n",
    "This step downloads the fastq files of the different samples from the SRA repository."
   ]
  },
  {
   "cell_type": "code",
   "execution_count": null,
   "metadata": {},
   "outputs": [],
   "source": [
    "# Data directory\n",
    "ldir=\"data/libraries\"\n",
    "[[ ! -d \"$ldir\" ]] && mkdir -p \"$ldir\"\n",
    "\n",
    "# Bioproject\n",
    "bioproject=PRJNA667697\n",
    "\n",
    "# Download related information to data project\n",
    "wget -q -O runinfo \"http://trace.ncbi.nlm.nih.gov/Traces/sra/sra.cgi?save=efetch&rettype=runinfo&db=sra&term=${bioproject}\"\n",
    "\n",
    "# Field of interest (library name and weblink)\n",
    "fdn=$(head -n 1 runinfo | tr \",\" \"\\n\" | grep -w -n \"LibraryName\" | cut -d \":\" -f 1)\n",
    "fdr=$(head -n 1 runinfo | tr \",\" \"\\n\" | grep -w -n \"Run\" | cut -d \":\" -f 1)\n",
    "\n",
    "# Download fastq files\n",
    "while read line\n",
    "do\n",
    "    # Filename and download link\n",
    "    fln=$(cut -d \",\" -f $fdn <<<$line)\n",
    "    run=$(cut -d \",\" -f $fdr <<<$line)\n",
    "    \n",
    "    # Download\n",
    "    echo \"$fln\"\n",
    "    [[ ! -d \"$ldir/$fln/\" ]] && mkdir -p \"$ldir/$fln/\"\n",
    "    fastq-dump -O \"$ldir/$fln/\" --split-files \"$run\"\n",
    "    \n",
    "    mv \"$ldir/$fln/${run}_1.fastq\" \"$ldir/$fln/${fln}_R1.fastq\"\n",
    "    mv \"$ldir/$fln/${run}_2.fastq\" \"$ldir/$fln/${fln}_R2.fastq\"\n",
    "        \n",
    "done < <(tail -n +2 runinfo | sed \"/^$/d\")\n",
    "\n",
    "# Compress files\n",
    "pigz \"$ldir/\"*/*\n",
    "\n",
    "rm runinfo"
   ]
  },
  {
   "cell_type": "markdown",
   "metadata": {},
   "source": [
    "### Genome data\n",
    "\n",
    "The genome data is downloaded from the [WormBase ParaSite](https://parasite.wormbase.org). We use the data from the version 14 (WBPS14). The data is then indexed for the different tools used."
   ]
  },
  {
   "cell_type": "code",
   "execution_count": null,
   "metadata": {
    "scrolled": false
   },
   "outputs": [],
   "source": [
    "gdir=\"data/genome\"\n",
    "[[ ! -d \"$gdir\" ]] && mkdir -p \"$gdir\"\n",
    "\n",
    "# Download and unzip data\n",
    "wget -P \"$gdir\" ftp://ftp.ebi.ac.uk/pub/databases/wormbase/parasite/releases/WBPS14/species/schistosoma_mansoni/PRJEA36577/schistosoma_mansoni.PRJEA36577.WBPS14.genomic.fa.gz\n",
    "pigz -d \"$gdir/schistosoma_mansoni.PRJEA36577.WBPS14.genomic.fa.gz\"\n",
    "\n",
    "# Preparing indices\n",
    "bwa index \"$gdir/schistosoma_mansoni.PRJEA36577.WBPS14.genomic.fa\"\n",
    "samtools faidx \"$gdir/schistosoma_mansoni.PRJEA36577.WBPS14.genomic.fa\"\n",
    "gatk CreateSequenceDictionary -R \"$gdir/schistosoma_mansoni.PRJEA36577.WBPS14.genomic.fa\""
   ]
  },
  {
   "cell_type": "markdown",
   "metadata": {},
   "source": [
    "### snpEff database\n",
    "\n",
    "To annotate the functional consequences of the variants in the VCF file, we use the snpEff tool. Because the reference genome is recent, we have to build a snpEff database in order to annotate the variants. "
   ]
  },
  {
   "cell_type": "code",
   "execution_count": null,
   "metadata": {
    "ExecuteTime": {
     "end_time": "2020-06-08T22:59:45.361157Z",
     "start_time": "2020-06-08T22:58:38.711831Z"
    }
   },
   "outputs": [],
   "source": [
    "# Create snpEff folder\n",
    "sedir=\"$gdir/snpEff/\"\n",
    "mkdir \"$sedir\"\n",
    "\n",
    "# Download the S. mansoni genome annotation\n",
    "wget -P \"$gdir\" ftp://ftp.ebi.ac.uk/pub/databases/wormbase/parasite/releases/WBPS14/species/schistosoma_mansoni/PRJEA36577/schistosoma_mansoni.PRJEA36577.WBPS14.annotations.gff3.gz\n",
    "pigz -d \"$gdir/schistosoma_mansoni.PRJEA36577.WBPS14.annotations.gff3.gz\"\n",
    "\n",
    "# Convert gff to gtf to make it easier for snpEff\n",
    "gffread \"$gdir/schistosoma_mansoni.PRJEA36577.WBPS14.annotations.gff3\" -T -o \"$gdir/schistosoma_mansoni.PRJEA36577.WBPS14.annotations.gtf\"\n",
    "\n",
    "# Custom snpEff config file\n",
    "cp \"$CONDA_PREFIX\"/share/snpeff-4.3.1t-4/snpEff.config \"$sedir\"\n",
    "\n",
    "## Identify mitochondrial chromosome\n",
    "mito=$(grep -i \">.*mito.*\" \"$gdir/schistosoma_mansoni.PRJEA36577.WBPS14.genomic.fa\" | sed -r \"s/>(.*) .*/\\1/\")\n",
    "\n",
    "##  Add schistosome genome and specify mitochondrial chromosome\n",
    "sed -i -r \"s|data.dir = ./data/|data.dir = .| ; s|(# Ebola virus)|# S. mansoni\\nsmansoni.genome: Schistosoma_mansoni\\n\\tsmansoni.$mito.codonTable : Trematode_Mitochondrial\\n\\n\\1|\" \"$sedir\"/snpEff.config\n",
    "\n",
    "# Create the mandatory folder and link to the needed files\n",
    "mkdir \"$sedir\"/genomes\n",
    "ln -s \"$PWD/$gdir/schistosoma_mansoni.PRJEA36577.WBPS14.genomic.fa\" \"$PWD/$sedir/genomes/smansoni.fa\"\n",
    "\n",
    "mkdir \"$sedir\"/smansoni\n",
    "ln -s \"$PWD/$gdir/schistosoma_mansoni.PRJEA36577.WBPS14.annotations.gtf\" \"$PWD/$sedir/smansoni/genes.gtf\"\n",
    "\n",
    "# Generate the database\n",
    "snpEff build -v -c data/genome/snpEff/snpEff.config smansoni"
   ]
  },
  {
   "cell_type": "markdown",
   "metadata": {},
   "source": [
    "### Known variants\n",
    "\n",
    "List of variants from the SmLE x SmHR crosses that segregated in a Mendelian fashion in F1 ([Valentim *et al.* 2013](https://doi.org/10.1126/science.1243106)). This list was generated from alignments using the v5 genome. This has been lifted over to the latest genome using the [flo pipeline](https://github.com/wurmlab/flo/tree/727f10b2b1c57a0514835d302d7f6345d3a34ffb)."
   ]
  },
  {
   "cell_type": "code",
   "execution_count": null,
   "metadata": {},
   "outputs": [],
   "source": [
    "# Index file\n",
    "gatk IndexFeatureFile -I \"$gdir/sm_dbSNP_v7.vcf\""
   ]
  },
  {
   "cell_type": "markdown",
   "metadata": {},
   "source": [
    "## Sequencing data processing\n",
    "\n",
    "### Snakemake pipeline\n",
    "\n",
    "The snakemake pipeline performs the following steps:\n",
    "* alignment of each library against the reference genome\n",
    "* marking duplicates\n",
    "* base quality recalibration\n",
    "* generating alignment statistics\n",
    "* outputing Z chromosome read depth for each library\n",
    "* determining sex of each individual\n",
    "* calling variants (gVCF) for each library\n",
    "* combining gVCF of all libraries\n",
    "* genotyping all samples per contig\n",
    "* merging all the contigs to generate final VCF file\n",
    "\n",
    "The VCF file produced will then be used to identify possible QTLs link to the cercarial production."
   ]
  },
  {
   "cell_type": "code",
   "execution_count": null,
   "metadata": {},
   "outputs": [],
   "source": [
    "snakemake --snakefile snakefile --cluster \"qsub -V -cwd -o status -j y -r y -pe smp 12 -S /bin/bash\" --jobs 384 -w 300"
   ]
  },
  {
   "cell_type": "markdown",
   "metadata": {},
   "source": [
    "### Variant annotation\n",
    "\n",
    "Functional consequences of variants is annotated to the VCF file using snpEff."
   ]
  },
  {
   "cell_type": "code",
   "execution_count": null,
   "metadata": {},
   "outputs": [],
   "source": [
    "snpEff -v -c \"$sedir/snpEff.config\" smansoni \"data/calling/cerc_prod.vcf.gz\" | bgzip -c -@ $(nproc) > \"data/calling/cerc_prod_snpEff.vcf.gz\"\n",
    "\n",
    "# Index the VCF file\n",
    "tabix \"data/calling/cerc_prod_snpEff.vcf.gz\""
   ]
  },
  {
   "cell_type": "code",
   "execution_count": 11,
   "metadata": {
    "ExecuteTime": {
     "end_time": "2020-06-18T23:39:01.268560Z",
     "start_time": "2020-06-18T23:39:01.091620Z"
    }
   },
   "outputs": [
    {
     "name": "stdout",
     "output_type": "stream",
     "text": [
      "(cerc_prod) (cerc_prod) "
     ]
    },
    {
     "ename": "",
     "evalue": "1",
     "output_type": "error",
     "traceback": []
    }
   ],
   "source": [
    "# Move file in the right folder\n",
    "mv -t \"data/calling/\" snpEff_summary.* snpEff_genes.txt"
   ]
  },
  {
   "cell_type": "markdown",
   "metadata": {},
   "source": [
    "### Selection of informative sites\n",
    "\n",
    "Because we used two different types of library preparation, exome capture (F1 and F2) and whole genome sequence (parents), most of the sites identified during the variant calling are uninformative (only identified in parents). To speed up analysis, only sites that have less than 50% of missing data are retained."
   ]
  },
  {
   "cell_type": "code",
   "execution_count": 3,
   "metadata": {
    "ExecuteTime": {
     "end_time": "2020-06-22T04:34:06.699604Z",
     "start_time": "2020-06-22T04:02:39.461119Z"
    }
   },
   "outputs": [
    {
     "name": "stdout",
     "output_type": "stream",
     "text": [
      "Using GATK jar /master/fcheval/local/pckg/python/miniconda3/envs/cerc_prod/share/gatk4-4.1.7.0-0/gatk-package-4.1.7.0-local.jar\n",
      "Running:\n",
      "    java -Dsamjdk.use_async_io_read_samtools=false -Dsamjdk.use_async_io_write_samtools=true -Dsamjdk.use_async_io_write_tribble=false -Dsamjdk.compression_level=2 -jar /master/fcheval/local/pckg/python/miniconda3/envs/cerc_prod/share/gatk4-4.1.7.0-0/gatk-package-4.1.7.0-local.jar SelectVariants -V data/calling/cerc_prod_snpEff.vcf.gz --max-nocall-fraction 0.5 -O data/calling/cerc_prod_snpEff_reduced.vcf.gz\n",
      "23:02:48.844 INFO  NativeLibraryLoader - Loading libgkl_compression.so from jar:file:/master/fcheval/local/pckg/python/miniconda3/envs/cerc_prod/share/gatk4-4.1.7.0-0/gatk-package-4.1.7.0-local.jar!/com/intel/gkl/native/libgkl_compression.so\n",
      "Jun 21, 2020 11:02:49 PM shaded.cloud_nio.com.google.auth.oauth2.ComputeEngineCredentials runningOnComputeEngine\n",
      "INFO: Failed to detect whether we are running on Google Compute Engine.\n",
      "23:02:49.906 INFO  SelectVariants - ------------------------------------------------------------\n",
      "23:02:49.907 INFO  SelectVariants - The Genome Analysis Toolkit (GATK) v4.1.7.0\n",
      "23:02:49.907 INFO  SelectVariants - For support and documentation go to https://software.broadinstitute.org/gatk/\n",
      "23:02:49.907 INFO  SelectVariants - Executing as fcheval@bulmer on Linux v3.10.0-693.11.1.el7.x86_64 amd64\n",
      "23:02:49.907 INFO  SelectVariants - Java runtime: OpenJDK 64-Bit Server VM v1.8.0_152-release-1056-b12\n",
      "23:02:49.908 INFO  SelectVariants - Start Date/Time: June 21, 2020 11:02:48 PM CDT\n",
      "23:02:49.908 INFO  SelectVariants - ------------------------------------------------------------\n",
      "23:02:49.908 INFO  SelectVariants - ------------------------------------------------------------\n",
      "23:02:49.908 INFO  SelectVariants - HTSJDK Version: 2.21.2\n",
      "23:02:49.908 INFO  SelectVariants - Picard Version: 2.21.9\n",
      "23:02:49.909 INFO  SelectVariants - HTSJDK Defaults.COMPRESSION_LEVEL : 2\n",
      "23:02:49.909 INFO  SelectVariants - HTSJDK Defaults.USE_ASYNC_IO_READ_FOR_SAMTOOLS : false\n",
      "23:02:49.909 INFO  SelectVariants - HTSJDK Defaults.USE_ASYNC_IO_WRITE_FOR_SAMTOOLS : true\n",
      "23:02:49.909 INFO  SelectVariants - HTSJDK Defaults.USE_ASYNC_IO_WRITE_FOR_TRIBBLE : false\n",
      "23:02:49.909 INFO  SelectVariants - Deflater: IntelDeflater\n",
      "23:02:49.909 INFO  SelectVariants - Inflater: IntelInflater\n",
      "23:02:49.909 INFO  SelectVariants - GCS max retries/reopens: 20\n",
      "23:02:49.909 INFO  SelectVariants - Requester pays: disabled\n",
      "23:02:49.909 INFO  SelectVariants - Initializing engine\n",
      "23:02:50.346 INFO  FeatureManager - Using codec VCFCodec to read file file:///data/infectious/schistosome/07%20-%20Virulence%20project/2020-04-04%20SmLE%20x%20SmBRE%20(after%20doom)/data/calling/cerc_prod_snpEff.vcf.gz\n",
      "23:02:50.443 INFO  SelectVariants - Done initializing engine\n",
      "23:02:50.503 INFO  ProgressMeter - Starting traversal\n",
      "23:02:50.503 INFO  ProgressMeter -        Current Locus  Elapsed Minutes    Variants Processed  Variants/Minute\n",
      "23:03:00.875 INFO  ProgressMeter -      SM_V7_1:1740492              0.2                 23000         133050.5\n",
      "23:03:10.937 INFO  ProgressMeter -      SM_V7_1:3844959              0.3                 49000         143877.9\n",
      "23:03:21.011 INFO  ProgressMeter -      SM_V7_1:6111796              0.5                 74000         145535.6\n",
      "23:03:31.028 INFO  ProgressMeter -      SM_V7_1:8523627              0.7                100000         148056.8\n",
      "23:03:41.560 INFO  ProgressMeter -     SM_V7_1:10182907              0.9                126000         148069.8\n",
      "23:03:51.883 INFO  ProgressMeter -     SM_V7_1:12246603              1.0                152000         148582.6\n",
      "23:04:02.066 INFO  ProgressMeter -     SM_V7_1:14512565              1.2                179000         150077.6\n",
      "23:04:12.083 INFO  ProgressMeter -     SM_V7_1:17159634              1.4                205000         150772.2\n",
      "23:04:22.442 INFO  ProgressMeter -     SM_V7_1:19595047              1.5                232000         151404.7\n",
      "23:04:32.667 INFO  ProgressMeter -     SM_V7_1:22214006              1.7                258000         151522.6\n",
      "23:04:42.912 INFO  ProgressMeter -     SM_V7_1:24516322              1.9                285000         152123.1\n",
      "23:04:53.012 INFO  ProgressMeter -     SM_V7_1:26872920              2.0                311000         152316.6\n",
      "23:05:03.325 INFO  ProgressMeter -     SM_V7_1:29305660              2.2                338000         152685.5\n",
      "23:05:13.443 INFO  ProgressMeter -     SM_V7_1:31894808              2.4                365000         153211.1\n",
      "23:05:23.609 INFO  ProgressMeter -     SM_V7_1:34356823              2.6                392000         153620.1\n",
      "23:05:33.823 INFO  ProgressMeter -     SM_V7_1:36984238              2.7                418000         153563.6\n",
      "23:05:44.054 INFO  ProgressMeter -     SM_V7_1:39704011              2.9                445000         153845.3\n",
      "23:05:54.249 INFO  ProgressMeter -     SM_V7_1:42423467              3.1                472000         154126.6\n",
      "23:06:04.439 INFO  ProgressMeter -     SM_V7_1:45283510              3.2                499000         154381.6\n",
      "23:06:14.569 INFO  ProgressMeter -     SM_V7_1:47798752              3.4                526000         154656.6\n",
      "23:06:24.675 INFO  ProgressMeter -     SM_V7_1:50118902              3.6                553000         154922.2\n",
      "23:06:34.743 INFO  ProgressMeter -     SM_V7_1:52236829              3.7                580000         155191.6\n",
      "23:06:45.085 INFO  ProgressMeter -     SM_V7_1:54588429              3.9                607000         155254.9\n",
      "23:06:55.426 INFO  ProgressMeter -     SM_V7_1:57004365              4.1                634000         155314.1\n",
      "23:07:05.559 INFO  ProgressMeter -     SM_V7_1:59620142              4.3                661000         155495.3\n",
      "23:07:15.730 INFO  ProgressMeter -     SM_V7_1:62489409              4.4                688000         155640.3\n",
      "23:07:25.973 INFO  ProgressMeter -     SM_V7_1:64825834              4.6                715000         155733.8\n",
      "23:07:36.230 INFO  ProgressMeter -     SM_V7_1:67374154              4.8                742000         155813.1\n",
      "23:07:46.581 INFO  ProgressMeter -     SM_V7_1:69892764              4.9                769000         155837.3\n",
      "23:07:56.727 INFO  ProgressMeter -     SM_V7_1:71912696              5.1                795000         155768.3\n",
      "23:08:06.995 INFO  ProgressMeter -     SM_V7_1:74145941              5.3                822000         155833.8\n",
      "23:08:17.293 INFO  ProgressMeter -     SM_V7_1:76784887              5.4                849000         155879.9\n",
      "23:08:27.654 INFO  ProgressMeter -     SM_V7_1:79101153              5.6                876000         155894.5\n",
      "23:08:37.822 INFO  ProgressMeter -     SM_V7_1:81172252              5.8                902000         155822.2\n",
      "23:08:48.080 INFO  ProgressMeter -     SM_V7_1:83397155              6.0                929000         155882.5\n",
      "23:08:58.085 INFO  ProgressMeter -     SM_V7_1:85560407              6.1                955000         155883.6\n",
      "23:09:08.113 INFO  ProgressMeter -     SM_V7_1:87691444              6.3                981000         155875.1\n",
      "23:09:18.196 INFO  ProgressMeter -      SM_V7_ZW:946731              6.5               1007000         155845.0\n",
      "23:09:28.381 INFO  ProgressMeter -     SM_V7_ZW:1408552              6.6               1031000         155474.8\n",
      "23:09:38.783 INFO  ProgressMeter -     SM_V7_ZW:2457360              6.8               1057000         155335.0\n",
      "23:09:49.048 INFO  ProgressMeter -     SM_V7_ZW:4426780              7.0               1084000         155395.5\n",
      "23:09:59.233 INFO  ProgressMeter -     SM_V7_ZW:6092112              7.1               1111000         155482.8\n",
      "23:10:09.280 INFO  ProgressMeter -     SM_V7_ZW:8262296              7.3               1137000         155477.6\n",
      "23:10:19.550 INFO  ProgressMeter -    SM_V7_ZW:10041213              7.5               1162000         155262.5\n",
      "23:10:29.622 INFO  ProgressMeter -    SM_V7_ZW:12498194              7.7               1187000         155139.7\n",
      "23:10:39.667 INFO  ProgressMeter -    SM_V7_ZW:15929821              7.8               1213000         155127.3\n",
      "23:10:49.862 INFO  ProgressMeter -    SM_V7_ZW:18899260              8.0               1239000         155082.1\n"
     ]
    },
    {
     "name": "stdout",
     "output_type": "stream",
     "text": [
      "23:11:00.103 INFO  ProgressMeter -    SM_V7_ZW:22063135              8.2               1266000         155147.1\n",
      "23:11:10.374 INFO  ProgressMeter -    SM_V7_ZW:25195527              8.3               1293000         155200.0\n",
      "23:11:20.639 INFO  ProgressMeter -    SM_V7_ZW:28354401              8.5               1319000         155135.1\n",
      "23:11:30.656 INFO  ProgressMeter -    SM_V7_ZW:31622083              8.7               1345000         155146.7\n",
      "23:11:40.864 INFO  ProgressMeter -    SM_V7_ZW:35260079              8.8               1372000         155215.0\n",
      "23:11:51.232 INFO  ProgressMeter -    SM_V7_ZW:39297817              9.0               1399000         155234.9\n",
      "23:12:01.385 INFO  ProgressMeter -    SM_V7_ZW:42908389              9.2               1426000         155314.6\n",
      "23:12:11.709 INFO  ProgressMeter -    SM_V7_ZW:45923529              9.4               1453000         155344.0\n",
      "23:12:21.839 INFO  ProgressMeter -    SM_V7_ZW:48278818              9.5               1479000         155320.2\n",
      "23:12:31.872 INFO  ProgressMeter -    SM_V7_ZW:50781494              9.7               1506000         155426.2\n",
      "23:12:42.055 INFO  ProgressMeter -    SM_V7_ZW:53527200              9.9               1533000         155489.3\n",
      "23:12:52.126 INFO  ProgressMeter -    SM_V7_ZW:56308315             10.0               1560000         155579.2\n",
      "23:13:02.485 INFO  ProgressMeter -    SM_V7_ZW:58967423             10.2               1587000         155593.1\n",
      "23:13:12.820 INFO  ProgressMeter -    SM_V7_ZW:61395577             10.4               1614000         155612.0\n",
      "23:13:22.874 INFO  ProgressMeter -    SM_V7_ZW:63839388             10.5               1641000         155699.7\n",
      "23:13:33.063 INFO  ProgressMeter -    SM_V7_ZW:66210270             10.7               1668000         155752.0\n",
      "23:13:43.102 INFO  ProgressMeter -    SM_V7_ZW:67816522             10.9               1693000         155654.5\n",
      "23:13:53.419 INFO  ProgressMeter -    SM_V7_ZW:70120615             11.0               1720000         155675.8\n",
      "23:14:03.557 INFO  ProgressMeter -    SM_V7_ZW:72467953             11.2               1746000         155649.0\n",
      "23:14:13.806 INFO  ProgressMeter -    SM_V7_ZW:75081087             11.4               1773000         155685.0\n",
      "23:14:23.825 INFO  ProgressMeter -    SM_V7_ZW:77225193             11.6               1800000         155771.8\n",
      "23:14:33.976 INFO  ProgressMeter -    SM_V7_ZW:79769230             11.7               1827000         155826.9\n",
      "23:14:44.262 INFO  ProgressMeter -    SM_V7_ZW:81882719             11.9               1854000         155850.9\n",
      "23:14:54.313 INFO  ProgressMeter -    SM_V7_ZW:84082330             12.1               1880000         155842.0\n",
      "23:15:04.658 INFO  ProgressMeter -    SM_V7_ZW:86299729             12.2               1907000         155852.6\n",
      "23:15:14.679 INFO  ProgressMeter -    SM_V7_ZW:88295692             12.4               1932000         155769.6\n",
      "23:15:24.681 INFO  ProgressMeter -      SM_V7_3:1311955             12.6               1956000         155613.1\n",
      "23:15:34.900 INFO  ProgressMeter -      SM_V7_3:2325382             12.7               1979000         155338.3\n",
      "23:15:45.146 INFO  ProgressMeter -      SM_V7_3:3058533             12.9               2003000         155142.4\n",
      "23:15:55.365 INFO  ProgressMeter -      SM_V7_3:4468167             13.1               2028000         155033.6\n",
      "23:16:05.674 INFO  ProgressMeter -      SM_V7_3:6498481             13.3               2055000         155061.0\n",
      "23:16:15.974 INFO  ProgressMeter -     SM_V7_3:11698143             13.4               2081000         155014.9\n",
      "23:16:26.149 INFO  ProgressMeter -     SM_V7_3:13969786             13.6               2108000         155067.3\n",
      "23:16:36.463 INFO  ProgressMeter -     SM_V7_3:16509356             13.8               2135000         155092.3\n",
      "23:16:46.715 INFO  ProgressMeter -     SM_V7_3:18676137             13.9               2161000         155056.4\n",
      "23:16:56.868 INFO  ProgressMeter -     SM_V7_3:21344879             14.1               2188000         155110.4\n",
      "23:17:06.923 INFO  ProgressMeter -     SM_V7_3:23838768             14.3               2215000         155180.9\n",
      "23:17:17.316 INFO  ProgressMeter -     SM_V7_3:26655973             14.4               2242000         155189.2\n",
      "23:17:27.414 INFO  ProgressMeter -     SM_V7_3:29602682             14.6               2269000         155249.5\n",
      "23:17:37.689 INFO  ProgressMeter -     SM_V7_3:32363436             14.8               2296000         155277.5\n",
      "23:17:47.924 INFO  ProgressMeter -     SM_V7_3:35135268             15.0               2323000         155311.7\n",
      "23:17:58.131 INFO  ProgressMeter -     SM_V7_3:36388864             15.1               2347000         155151.7\n",
      "23:18:08.245 INFO  ProgressMeter -     SM_V7_3:38510608             15.3               2373000         155141.6\n",
      "23:18:18.266 INFO  ProgressMeter -     SM_V7_3:40680350             15.5               2399000         155147.4\n",
      "23:18:28.320 INFO  ProgressMeter -     SM_V7_3:41779040             15.6               2424000         155083.6\n",
      "23:18:38.572 INFO  ProgressMeter -     SM_V7_3:43694235             15.8               2449000         154988.7\n",
      "23:18:48.920 INFO  ProgressMeter -     SM_V7_3:45578146             16.0               2475000         154943.0\n",
      "23:18:59.156 INFO  ProgressMeter -     SM_V7_3:47941224             16.1               2500000         154854.2\n",
      "23:19:09.174 INFO  ProgressMeter -     SM_V7_3:49642105             16.3               2525000         154801.8\n",
      "23:19:19.580 INFO  ProgressMeter -      SM_V7_2:1023507             16.5               2551000         154750.3\n",
      "23:19:29.925 INFO  ProgressMeter -      SM_V7_2:2382178             16.7               2574000         154529.3\n",
      "23:19:40.038 INFO  ProgressMeter -      SM_V7_2:3280559             16.8               2596000         154288.9\n",
      "23:19:50.197 INFO  ProgressMeter -      SM_V7_2:4141819             17.0               2619000         154105.1\n",
      "23:20:00.439 INFO  ProgressMeter -      SM_V7_2:4718206             17.2               2642000         153912.5\n",
      "23:20:10.748 INFO  ProgressMeter -      SM_V7_2:6707093             17.3               2669000         153944.5\n",
      "23:20:20.894 INFO  ProgressMeter -      SM_V7_2:8557653             17.5               2695000         153942.7\n",
      "23:20:31.189 INFO  ProgressMeter -     SM_V7_2:10370449             17.7               2722000         153975.8\n",
      "23:20:41.405 INFO  ProgressMeter -     SM_V7_2:12332788             17.8               2749000         154019.7\n",
      "23:20:51.540 INFO  ProgressMeter -     SM_V7_2:14667126             18.0               2775000         154018.8\n",
      "23:21:01.615 INFO  ProgressMeter -     SM_V7_2:16700412             18.2               2800000         153971.4\n",
      "23:21:11.735 INFO  ProgressMeter -     SM_V7_2:18876000             18.4               2826000         153973.0\n",
      "23:21:22.113 INFO  ProgressMeter -     SM_V7_2:21288752             18.5               2853000         153993.0\n",
      "23:21:32.326 INFO  ProgressMeter -     SM_V7_2:23630134             18.7               2880000         154035.0\n",
      "23:21:42.459 INFO  ProgressMeter -     SM_V7_2:25959049             18.9               2906000         154034.3\n",
      "23:21:52.647 INFO  ProgressMeter -     SM_V7_2:28336062             19.0               2933000         154078.6\n",
      "23:22:02.702 INFO  ProgressMeter -     SM_V7_2:31052168             19.2               2960000         154140.2\n",
      "23:22:13.011 INFO  ProgressMeter -     SM_V7_2:33578913             19.4               2987000         154166.7\n",
      "23:22:23.317 INFO  ProgressMeter -     SM_V7_2:35906128             19.5               3015000         154244.4\n",
      "23:22:33.574 INFO  ProgressMeter -     SM_V7_2:37910808             19.7               3041000         154225.7\n",
      "23:22:43.762 INFO  ProgressMeter -     SM_V7_2:40206255             19.9               3068000         154266.6\n",
      "23:22:54.057 INFO  ProgressMeter -     SM_V7_2:42942161             20.1               3094000         154243.2\n",
      "23:23:04.235 INFO  ProgressMeter -     SM_V7_2:44748417             20.2               3120000         154235.2\n",
      "23:23:14.441 INFO  ProgressMeter -     SM_V7_2:46527690             20.4               3146000         154223.5\n",
      "23:23:24.535 INFO  ProgressMeter -     SM_V7_2:47707917             20.6               3170000         154128.9\n"
     ]
    },
    {
     "name": "stdout",
     "output_type": "stream",
     "text": [
      "23:23:34.856 INFO  ProgressMeter -      SM_V7_4:1455892             20.7               3196000         154104.3\n",
      "23:23:45.185 INFO  ProgressMeter -      SM_V7_4:3765168             20.9               3223000         154126.7\n",
      "23:23:55.485 INFO  ProgressMeter -      SM_V7_4:5796481             21.1               3250000         154152.5\n",
      "23:24:05.568 INFO  ProgressMeter -      SM_V7_4:8336418             21.3               3275000         154109.8\n",
      "23:24:15.778 INFO  ProgressMeter -     SM_V7_4:10930346             21.4               3302000         154146.0\n",
      "23:24:26.083 INFO  ProgressMeter -     SM_V7_4:13393724             21.6               3329000         154170.3\n",
      "23:24:36.104 INFO  ProgressMeter -     SM_V7_4:14946468             21.8               3354000         154135.9\n",
      "23:24:46.481 INFO  ProgressMeter -     SM_V7_4:17419630             21.9               3382000         154197.2\n",
      "23:24:56.766 INFO  ProgressMeter -     SM_V7_4:19985892             22.1               3408000         154177.6\n",
      "23:25:06.999 INFO  ProgressMeter -     SM_V7_4:22514398             22.3               3435000         154209.2\n",
      "23:25:17.008 INFO  ProgressMeter -     SM_V7_4:25210396             22.4               3462000         154266.0\n",
      "23:25:27.065 INFO  ProgressMeter -     SM_V7_4:27767355             22.6               3489000         154316.7\n",
      "23:25:37.137 INFO  ProgressMeter -     SM_V7_4:30128639             22.8               3515000         154320.9\n",
      "23:25:47.227 INFO  ProgressMeter -     SM_V7_4:33307692             22.9               3542000         154366.5\n",
      "23:25:57.470 INFO  ProgressMeter -     SM_V7_4:35548057             23.1               3569000         154394.6\n",
      "23:26:07.690 INFO  ProgressMeter -     SM_V7_4:37977036             23.3               3595000         154381.6\n",
      "23:26:17.719 INFO  ProgressMeter -     SM_V7_4:39951978             23.5               3622000         154432.6\n",
      "23:26:27.740 INFO  ProgressMeter -     SM_V7_4:41695970             23.6               3648000         154441.4\n",
      "23:26:37.804 INFO  ProgressMeter -     SM_V7_4:43168980             23.8               3674000         154445.5\n",
      "23:26:47.855 INFO  ProgressMeter -     SM_V7_4:44270696             24.0               3697000         154325.6\n",
      "23:26:58.074 INFO  ProgressMeter -     SM_V7_4:45661217             24.1               3722000         154272.2\n",
      "23:27:08.414 INFO  ProgressMeter -       SM_V7_5:207663             24.3               3747000         154206.9\n",
      "23:27:18.717 INFO  ProgressMeter -      SM_V7_5:2098186             24.5               3773000         154187.3\n",
      "23:27:28.730 INFO  ProgressMeter -      SM_V7_5:3872457             24.6               3798000         154157.8\n",
      "23:27:38.958 INFO  ProgressMeter -      SM_V7_5:5356836             24.8               3822000         154065.9\n",
      "23:27:48.995 INFO  ProgressMeter -      SM_V7_5:6498448             25.0               3848000         154074.9\n",
      "23:27:59.253 INFO  ProgressMeter -      SM_V7_5:8571604             25.1               3873000         154021.5\n",
      "23:28:09.372 INFO  ProgressMeter -     SM_V7_5:11449073             25.3               3899000         154022.5\n",
      "23:28:19.397 INFO  ProgressMeter -     SM_V7_5:13901795             25.5               3926000         154072.3\n",
      "23:28:29.739 INFO  ProgressMeter -     SM_V7_5:15956585             25.7               3953000         154089.5\n",
      "23:28:40.036 INFO  ProgressMeter -     SM_V7_5:17224988             25.8               3978000         154033.5\n",
      "23:28:50.190 INFO  ProgressMeter -     SM_V7_5:18762402             26.0               4003000         153992.4\n",
      "23:29:00.266 INFO  ProgressMeter -     SM_V7_5:20665919             26.2               4028000         153959.5\n",
      "23:29:10.598 INFO  ProgressMeter -     SM_V7_5:21838101             26.3               4053000         153902.1\n",
      "23:29:20.637 INFO  ProgressMeter -     SM_V7_5:23865316             26.5               4079000         153911.6\n",
      "23:29:31.032 INFO  ProgressMeter -       SM_V7_6:413279             26.7               4106000         153924.1\n",
      "23:29:41.333 INFO  ProgressMeter -      SM_V7_6:1289988             26.8               4129000         153796.6\n",
      "23:29:51.410 INFO  ProgressMeter -      SM_V7_6:3070930             27.0               4154000         153765.8\n",
      "23:30:01.743 INFO  ProgressMeter -      SM_V7_6:5099552             27.2               4181000         153784.9\n",
      "23:30:11.787 INFO  ProgressMeter -      SM_V7_6:7440571             27.4               4207000         153794.2\n",
      "23:30:22.110 INFO  ProgressMeter -      SM_V7_6:9834280             27.5               4234000         153813.8\n",
      "23:30:32.269 INFO  ProgressMeter -     SM_V7_6:12279410             27.7               4261000         153848.4\n",
      "23:30:42.423 INFO  ProgressMeter -     SM_V7_6:14184979             27.9               4288000         153883.1\n",
      "23:30:52.671 INFO  ProgressMeter -     SM_V7_6:16226888             28.0               4315000         153908.5\n",
      "23:31:02.981 INFO  ProgressMeter -     SM_V7_6:18227781             28.2               4342000         153928.1\n",
      "23:31:13.306 INFO  ProgressMeter -     SM_V7_6:19608353             28.4               4368000         153910.9\n",
      "23:31:23.314 INFO  ProgressMeter -     SM_V7_6:20370679             28.5               4392000         153852.4\n",
      "23:31:33.820 INFO  ProgressMeter -     SM_V7_6:22235256             28.7               4419000         153854.5\n",
      "23:31:44.072 INFO  ProgressMeter -     SM_V7_6:24105880             28.9               4445000         153844.5\n",
      "23:31:54.293 INFO  ProgressMeter -      SM_V7_7:1201837             29.1               4471000         153837.3\n",
      "23:32:04.387 INFO  ProgressMeter -      SM_V7_7:2899475             29.2               4498000         153875.6\n",
      "23:32:14.444 INFO  ProgressMeter -      SM_V7_7:4964790             29.4               4524000         153882.7\n",
      "23:32:24.458 INFO  ProgressMeter -      SM_V7_7:6897882             29.6               4551000         153927.2\n",
      "23:32:34.515 INFO  ProgressMeter -      SM_V7_7:8649360             29.7               4577000         153934.0\n",
      "23:32:44.662 INFO  ProgressMeter -     SM_V7_7:11186703             29.9               4604000         153966.3\n",
      "23:32:54.887 INFO  ProgressMeter -     SM_V7_7:12535677             30.1               4630000         153958.4\n",
      "23:33:05.031 INFO  ProgressMeter -     SM_V7_7:14917171             30.2               4657000         153990.5\n",
      "23:33:15.043 INFO  ProgressMeter -     SM_V7_7:16742360             30.4               4683000         154000.5\n",
      "23:33:25.427 INFO  ProgressMeter -     SM_V7_7:18862661             30.6               4710000         154011.8\n",
      "23:33:35.627 INFO  ProgressMeter -    SM_V7_2H001:67585             30.8               4735000         153973.4\n",
      "23:33:45.982 INFO  ProgressMeter -    SM_V7_2H007:52134             30.9               4759000         153890.2\n",
      "23:33:56.286 INFO  ProgressMeter -      SM_V7_1001:9869             31.1               4784000         153844.3\n",
      "23:34:06.296 INFO  ProgressMeter -     SM_V7_2H029:7820             31.3               4808761         153815.3\n",
      "23:34:06.296 INFO  ProgressMeter - Traversal complete. Processed 4808761 total variants in 31.3 minutes.\n",
      "23:34:06.562 INFO  SelectVariants - Shutting down engine\n",
      "[June 21, 2020 11:34:06 PM CDT] org.broadinstitute.hellbender.tools.walkers.variantutils.SelectVariants done. Elapsed time: 31.30 minutes.\n",
      "Runtime.totalMemory()=722468864\n",
      "(cerc_prod) "
     ]
    },
    {
     "ename": "",
     "evalue": "1",
     "output_type": "error",
     "traceback": []
    }
   ],
   "source": [
    "gatk SelectVariants \\\n",
    "        -V \"data/calling/cerc_prod_snpEff.vcf.gz\" \\\n",
    "        --max-nocall-fraction 0.5 \\\n",
    "        -O \"data/calling/cerc_prod_snpEff_reduced.vcf.gz\""
   ]
  },
  {
   "cell_type": "markdown",
   "metadata": {},
   "source": [
    "## Phenotype analysis\n",
    "\n",
    "### *In silico* schistosome sexing\n",
    "\n",
    "Sex is often an important covariate. We used Z chromosome read depth to determine sex of the cercariae. Sexual determination in schistosome relies on Z and W chromosomes: females are ZW while males are ZZ. We take advantage of the sequencing data to perform an *in silico* sexing by comparing the read depth along the Z chromosome. The Z chromosome carries a Z-linked region (located between 11 and 44 Mb) which never recombines with the W chromosome contrariwise to the rest of the Z chromosome (pseudo-autosomal region). While the Z-linked region in males (ZZ) will display the same read depth as the pseudo-autosomal region, the Z-linked region in females (ZW) will display only half of the read depth of the pseudo-autosomal region. We can therefore determine a read depth ratio between the Z-linked and pseudo-autosomal regions: a ratio around 1 will correspond to a male carrying two Z chromosomes while a ratio around 0.5 will correspond to a female carrying only one Z chromosome.\n",
    "\n",
    "We compute the read depth at each base of the chromosome Z using SAMtools and BEDtools. We use R to first smooth the read depth data which may show local high variation using the runmed function on 101 contiguous sites, then we keep only sites showing a read depth of more than 5 to finally compute the ratio on Z-linked over Z pseudo-autosomal read depth. We validated this approach by comparing molecular and in silico sexing of some F2s."
   ]
  },
  {
   "cell_type": "code",
   "execution_count": 3,
   "metadata": {
    "ExecuteTime": {
     "end_time": "2020-12-23T18:20:36.298892Z",
     "start_time": "2020-12-23T18:20:23.754954Z"
    }
   },
   "outputs": [],
   "source": [
    "# Result folder\n",
    "rdir=\"results\"\n",
    "[[ ! -d \"$rdir/1-Phenotype\" ]] && mkdir -p \"$rdir/1-Phenotype\"\n",
    "\n",
    "sex=\"$rdir/1-Phenotype/sex.tsv\"\n",
    "\n",
    "# Header\n",
    "echo -e \"id\\tread_depth\\tratio\\tsex\" > \"$sex\"\n",
    "\n",
    "# Add parents\n",
    "for i in $(find \"$ldir\" -maxdepth 1 -name S* | sed \"s|^.*/||g\")\n",
    "do\n",
    "    echo -e \"$i\\t$(cat \"$ldir/$i/\"*sex | tr \"\\n\" \"\\t\")\"\n",
    "done >> \"$sex\"\n",
    "\n",
    "# Add F1s and F2s\n",
    "for i in $(find \"$ldir\" -maxdepth 1 -name F* | sed \"s|^.*/||g\")\n",
    "do\n",
    "    echo -e \"$i\\t$(cat \"$ldir/$i/\"*sex | tr \"\\n\" \"\\t\")\"\n",
    "done >> \"$sex\""
   ]
  },
  {
   "cell_type": "markdown",
   "metadata": {},
   "source": [
    "### Transmission stage production\n",
    "\n",
    "We analyze the cercarial production of the two parental populations (i.e. SmLE-H and SmBRE-L) and their progeny (i.e. F1s and F2s). This includes:\n",
    "* Difference in the average of cercariae produced by SmLE-H and SmBRE-L populations during 4 weeks of the patent period (week 4 to 7 post infection). SmLE-H population is shedding more cercariae than SmBRE-L population. This data are those already published in [Le Clec'h *et al.* 2019](https://doi.org/10.1186/s13071-019-3741-z). \n",
    "* Difference in the number of cercariae produced by parental populations (i.e. SmLE-H and SmBRE-L) and progeny (i.e. F1 and F2) measured by week (week 4 to 7 post infection). \n",
    "* Distribution of the cercarial production (mean + SE) over the 4 weeks of the patent period for the parents (F0), the F1 parents and all the F2 progeny by rank order."
   ]
  },
  {
   "cell_type": "code",
   "execution_count": null,
   "metadata": {},
   "outputs": [],
   "source": [
    "Rscript scripts/Fig2_cercarial_shedding_pheno.R"
   ]
  },
  {
   "cell_type": "markdown",
   "metadata": {},
   "source": [
    "### Impact of parasite gender on the cercarial production\n",
    "\n",
    "We analyze the impact of the parasite sex on cercarial production for F1s and F2s. "
   ]
  },
  {
   "cell_type": "code",
   "execution_count": null,
   "metadata": {},
   "outputs": [],
   "source": [
    "Rscript scripts/Supp_Fig1_cercarial_shedding_sex.R"
   ]
  },
  {
   "cell_type": "markdown",
   "metadata": {},
   "source": [
    "### Correlation between snail traits and cercarial production\n",
    "\n",
    "We measure to snail traits on the hemolymph of the infected snails: the laccase-like activity and the hemoglobin. Measure were taken at the end of the experiment for the three generations. These measures can then be correlated to the cercarial production."
   ]
  },
  {
   "cell_type": "code",
   "execution_count": null,
   "metadata": {},
   "outputs": [],
   "source": [
    "Rscript scripts/Supp_Fig3_correlation_PO_Hb_shedding.R"
   ]
  },
  {
   "cell_type": "markdown",
   "metadata": {},
   "source": [
    "## QTL analysis\n",
    "\n",
    "The analysis relies on several steps:\n",
    "* **SNP filtration**: bi-allelic site only, read depth (DP) of 10 at least, genotype quality (GQ) of 30.\n",
    "* **Conversion of the genotype data in R/qtl format (csvs)**: only alternatively fixed alleles from the parent retained.\n",
    "* **Single QTL analysis on all the phenotypes** (estimated run time: 30 minutes): sum of cercariae shed by schistosome genotype, average of cercariae shed by schistosome genotype, total phenoloxidase activity of the snail host, hemoglobin rate of the snail host.\n",
    "* **QTL interaction analysis using reduced set of markers** (estimated run time: 12h).\n",
    "* **Allele dominance analysis.**\n",
    "\n",
    "N.B.: Estimated run time indicated is dependent on computer/server specifications. Our analysis ran on a server with 16 CPU (2.53 GHz) and 96 GB of RAM."
   ]
  },
  {
   "cell_type": "code",
   "execution_count": null,
   "metadata": {},
   "outputs": [],
   "source": [
    "Rscript scripts/Cercariae_intensity_qtl.R\n",
    "Rscript scripts/Fig4_plot_dominance_chr.R"
   ]
  },
  {
   "cell_type": "markdown",
   "metadata": {},
   "source": [
    "## Prioritization of candidate genes\n",
    "\n",
    "### Chromosome level VCF\n",
    "\n",
    "QTLs were identified on chromosomes 1, 2, 3, 4 and 5. The VCF file needs to be reduced to chromosome intervals to avoid loading unnecessary data and saving time."
   ]
  },
  {
   "cell_type": "code",
   "execution_count": 6,
   "metadata": {
    "ExecuteTime": {
     "end_time": "2020-08-04T16:31:43.773779Z",
     "start_time": "2020-08-04T16:22:41.772466Z"
    }
   },
   "outputs": [
    {
     "name": "stdout",
     "output_type": "stream",
     "text": [
      "Using GATK jar /master/fcheval/local/pckg/python/miniconda3/envs/cerc_prod/share/gatk4-4.1.7.0-0/gatk-package-4.1.7.0-local.jar\n",
      "Running:\n",
      "    java -Dsamjdk.use_async_io_read_samtools=false -Dsamjdk.use_async_io_write_samtools=true -Dsamjdk.use_async_io_write_tribble=false -Dsamjdk.compression_level=2 -jar /master/fcheval/local/pckg/python/miniconda3/envs/cerc_prod/share/gatk4-4.1.7.0-0/gatk-package-4.1.7.0-local.jar SelectVariants -V data/calling/cerc_prod_snpEff.vcf.gz -L SM_V7_1:40000000-55000000 -L SM_V7_2:40000000-48130368 -L SM_V7_3:3000000-5500000 -L SM_V7_4:20000000-40000000 -L SM_V7_5:18000000-25000000 -O data/calling/cerc_prod_snpEff_1-2-3-4-5.vcf.gz\n",
      "11:22:45.276 INFO  NativeLibraryLoader - Loading libgkl_compression.so from jar:file:/master/fcheval/local/pckg/python/miniconda3/envs/cerc_prod/share/gatk4-4.1.7.0-0/gatk-package-4.1.7.0-local.jar!/com/intel/gkl/native/libgkl_compression.so\n",
      "Aug 04, 2020 11:22:45 AM shaded.cloud_nio.com.google.auth.oauth2.ComputeEngineCredentials runningOnComputeEngine\n",
      "INFO: Failed to detect whether we are running on Google Compute Engine.\n",
      "11:22:45.502 INFO  SelectVariants - ------------------------------------------------------------\n",
      "11:22:45.503 INFO  SelectVariants - The Genome Analysis Toolkit (GATK) v4.1.7.0\n",
      "11:22:45.503 INFO  SelectVariants - For support and documentation go to https://software.broadinstitute.org/gatk/\n",
      "11:22:45.503 INFO  SelectVariants - Executing as fcheval@bulmer on Linux v3.10.0-693.11.1.el7.x86_64 amd64\n",
      "11:22:45.503 INFO  SelectVariants - Java runtime: OpenJDK 64-Bit Server VM v1.8.0_152-release-1056-b12\n",
      "11:22:45.503 INFO  SelectVariants - Start Date/Time: August 4, 2020 11:22:45 AM CDT\n",
      "11:22:45.504 INFO  SelectVariants - ------------------------------------------------------------\n",
      "11:22:45.504 INFO  SelectVariants - ------------------------------------------------------------\n",
      "11:22:45.504 INFO  SelectVariants - HTSJDK Version: 2.21.2\n",
      "11:22:45.504 INFO  SelectVariants - Picard Version: 2.21.9\n",
      "11:22:45.504 INFO  SelectVariants - HTSJDK Defaults.COMPRESSION_LEVEL : 2\n",
      "11:22:45.504 INFO  SelectVariants - HTSJDK Defaults.USE_ASYNC_IO_READ_FOR_SAMTOOLS : false\n",
      "11:22:45.504 INFO  SelectVariants - HTSJDK Defaults.USE_ASYNC_IO_WRITE_FOR_SAMTOOLS : true\n",
      "11:22:45.505 INFO  SelectVariants - HTSJDK Defaults.USE_ASYNC_IO_WRITE_FOR_TRIBBLE : false\n",
      "11:22:45.505 INFO  SelectVariants - Deflater: IntelDeflater\n",
      "11:22:45.505 INFO  SelectVariants - Inflater: IntelInflater\n",
      "11:22:45.505 INFO  SelectVariants - GCS max retries/reopens: 20\n",
      "11:22:45.505 INFO  SelectVariants - Requester pays: disabled\n",
      "11:22:45.505 INFO  SelectVariants - Initializing engine\n",
      "11:22:45.908 INFO  FeatureManager - Using codec VCFCodec to read file file:///data/infectious/schistosome/07%20-%20Virulence%20project/2020-04-04%20SmLE%20x%20SmBRE%20(after%20doom)/data/calling/cerc_prod_snpEff.vcf.gz\n",
      "11:22:46.032 INFO  IntervalArgumentCollection - Processing 52630373 bp from intervals\n",
      "11:22:46.036 INFO  SelectVariants - Done initializing engine\n",
      "11:22:46.112 INFO  ProgressMeter - Starting traversal\n",
      "11:22:46.113 INFO  ProgressMeter -        Current Locus  Elapsed Minutes    Variants Processed  Variants/Minute\n",
      "11:22:56.800 INFO  ProgressMeter -     SM_V7_1:41221172              0.2                 11000          61763.1\n",
      "11:23:07.308 INFO  ProgressMeter -     SM_V7_1:42221743              0.4                 22000          62278.8\n",
      "11:23:17.334 INFO  ProgressMeter -     SM_V7_1:43445184              0.5                 34000          65342.7\n",
      "11:23:28.038 INFO  ProgressMeter -     SM_V7_1:44870438              0.7                 47000          67264.6\n",
      "11:23:38.507 INFO  ProgressMeter -     SM_V7_1:46125682              0.9                 60000          68710.2\n",
      "11:23:49.247 INFO  ProgressMeter -     SM_V7_1:47395788              1.1                 73000          69376.2\n",
      "11:23:59.336 INFO  ProgressMeter -     SM_V7_1:48371466              1.2                 85000          69650.2\n",
      "11:24:09.989 INFO  ProgressMeter -     SM_V7_1:49485725              1.4                 98000          70103.5\n",
      "11:24:20.766 INFO  ProgressMeter -     SM_V7_1:50582763              1.6                111000          70362.3\n",
      "11:24:30.778 INFO  ProgressMeter -     SM_V7_1:51589738              1.7                123000          70510.7\n",
      "11:24:41.451 INFO  ProgressMeter -     SM_V7_1:52627350              1.9                136000          70748.6\n",
      "11:24:51.852 INFO  ProgressMeter -     SM_V7_1:53874687              2.1                149000          71099.7\n",
      "11:25:02.350 INFO  ProgressMeter -     SM_V7_1:54861802              2.3                162000          71346.3\n",
      "11:25:13.109 INFO  ProgressMeter -      SM_V7_3:3574208              2.4                174000          71022.3\n",
      "11:25:23.123 INFO  ProgressMeter -      SM_V7_3:4306680              2.6                186000          71078.7\n",
      "11:25:33.459 INFO  ProgressMeter -      SM_V7_3:5093516              2.8                198000          70990.6\n",
      "11:25:43.726 INFO  ProgressMeter -     SM_V7_2:40287807              3.0                210000          70941.2\n",
      "11:25:54.434 INFO  ProgressMeter -     SM_V7_2:41895029              3.1                223000          71048.9\n",
      "11:26:05.107 INFO  ProgressMeter -     SM_V7_2:43012482              3.3                236000          71157.9\n",
      "11:26:15.992 INFO  ProgressMeter -     SM_V7_2:44002179              3.5                249000          71184.2\n",
      "11:26:26.515 INFO  ProgressMeter -     SM_V7_2:44815047              3.7                262000          71324.5\n",
      "11:26:36.665 INFO  ProgressMeter -     SM_V7_2:45678364              3.8                274000          71307.1\n",
      "11:26:46.843 INFO  ProgressMeter -     SM_V7_2:46492721              4.0                286000          71283.2\n",
      "11:26:57.102 INFO  ProgressMeter -     SM_V7_2:47190955              4.2                298000          71238.2\n",
      "11:27:07.663 INFO  ProgressMeter -     SM_V7_2:47588058              4.4                309000          70885.1\n",
      "11:27:18.395 INFO  ProgressMeter -     SM_V7_4:20498287              4.5                322000          70955.8\n",
      "11:27:29.047 INFO  ProgressMeter -     SM_V7_4:21612691              4.7                335000          71041.3\n",
      "11:27:39.639 INFO  ProgressMeter -     SM_V7_4:22921787              4.9                348000          71135.1\n",
      "11:27:50.068 INFO  ProgressMeter -     SM_V7_4:24245391              5.1                361000          71260.5\n",
      "11:28:00.583 INFO  ProgressMeter -     SM_V7_4:25529336              5.2                374000          71358.2\n",
      "11:28:11.043 INFO  ProgressMeter -     SM_V7_4:26789821              5.4                387000          71461.8\n",
      "11:28:21.461 INFO  ProgressMeter -     SM_V7_4:27995066              5.6                400000          71567.4\n",
      "11:28:32.064 INFO  ProgressMeter -     SM_V7_4:29110538              5.8                413000          71628.6\n",
      "11:28:42.736 INFO  ProgressMeter -     SM_V7_4:30358169              5.9                426000          71672.5\n",
      "11:28:53.265 INFO  ProgressMeter -     SM_V7_4:31964047              6.1                439000          71741.6\n",
      "11:29:03.983 INFO  ProgressMeter -     SM_V7_4:33441334              6.3                452000          71770.7\n",
      "11:29:14.059 INFO  ProgressMeter -     SM_V7_4:34411930              6.5                464000          71762.6\n",
      "11:29:24.899 INFO  ProgressMeter -     SM_V7_4:35485416              6.6                477000          71767.8\n",
      "11:29:35.036 INFO  ProgressMeter -     SM_V7_4:36372885              6.8                489000          71749.6\n",
      "11:29:45.585 INFO  ProgressMeter -     SM_V7_4:37834595              7.0                502000          71804.6\n",
      "11:29:56.121 INFO  ProgressMeter -     SM_V7_4:38897282              7.2                515000          71859.1\n",
      "11:30:06.309 INFO  ProgressMeter -     SM_V7_4:39677951              7.3                527000          71831.6\n",
      "11:30:16.679 INFO  ProgressMeter -     SM_V7_5:18448949              7.5                539000          71776.4\n",
      "11:30:26.761 INFO  ProgressMeter -     SM_V7_5:19445642              7.7                551000          71768.5\n",
      "11:30:36.823 INFO  ProgressMeter -     SM_V7_5:20267596              7.8                563000          71763.9\n"
     ]
    },
    {
     "name": "stdout",
     "output_type": "stream",
     "text": [
      "11:30:47.218 INFO  ProgressMeter -     SM_V7_5:20841294              8.0                574000          71586.5\n",
      "11:30:58.029 INFO  ProgressMeter -     SM_V7_5:21361676              8.2                586000          71475.6\n",
      "11:31:08.555 INFO  ProgressMeter -     SM_V7_5:21933207              8.4                598000          71411.2\n",
      "11:31:19.536 INFO  ProgressMeter -     SM_V7_5:23060814              8.6                611000          71403.1\n",
      "11:31:30.029 INFO  ProgressMeter -     SM_V7_5:24226449              8.7                624000          71462.0\n",
      "11:31:40.595 INFO  ProgressMeter -     SM_V7_5:24743588              8.9                636000          71396.2\n",
      "11:31:42.924 INFO  ProgressMeter -     SM_V7_5:24916478              8.9                638874          71407.7\n",
      "11:31:42.924 INFO  ProgressMeter - Traversal complete. Processed 638874 total variants in 8.9 minutes.\n",
      "11:31:43.462 INFO  SelectVariants - Shutting down engine\n",
      "[August 4, 2020 11:31:43 AM CDT] org.broadinstitute.hellbender.tools.walkers.variantutils.SelectVariants done. Elapsed time: 8.97 minutes.\n",
      "Runtime.totalMemory()=911736832\n",
      "(cerc_prod) "
     ]
    },
    {
     "ename": "",
     "evalue": "1",
     "output_type": "error",
     "traceback": []
    }
   ],
   "source": [
    "gatk SelectVariants \\\n",
    "        -V \"data/calling/cerc_prod_snpEff.vcf.gz\" \\\n",
    "        -L SM_V7_1:40000000-55000000 \\\n",
    "        -L SM_V7_2:40000000-48130368 \\ # End of the chromosome\n",
    "        -L SM_V7_3:3000000-5500000 \\\n",
    "        -L SM_V7_4:20000000-40000000 \\\n",
    "        -L SM_V7_5:18000000-25000000 \\\n",
    "        -O \"data/calling/cerc_prod_snpEff_1-2-3-4-5.vcf.gz\""
   ]
  },
  {
   "cell_type": "markdown",
   "metadata": {},
   "source": [
    "### Candidate gene analysis\n",
    "\n",
    "The 5 QTLs identified cover several Mb and tens of genes. To identify the genes most likely involved in cercarial production, we focus on few criteria:\n",
    "* We refine the QTL regions by determining the chromosomal positions corresponding to a drop of 1.8 LOD from the highest LOD score of each QTL. We expect the genes involved to be relatively close to the peaks.\n",
    "* We focus on alternative fix alleles in the parents (with a GQ greater than 29 and a DP greater than 5). The phenotype in the parental population being dramatic, we expect to the parents to be homozygous for the alleles involved.\n",
    "* We take in account mutations and their impacts in each gene. We expect at least on the parental allele to show mutations with important impacts.\n",
    "* We final take in account know gene expression in late sporocyst and cercariae. We expect the genes to be expressed at these stages.\n",
    "\n",
    "Using these criteria, we created a formula to generate a score (genoscore) to objectively prioritize candidate genes in each QTL region:\n",
    "\n",
    "Genoscore = $\\sum_{i=1}^{n} (GSa_i \\times GSb_i \\times IS_i) \\over l \\times \\sqrt(d_peak))$$ \\times e \\times 100$\n",
    "\n",
    "The genoscore is computed either by gene or gene’s coding sequence (CDS). For each site i of a gene or CDS, we first compute a genotype score (GS) for each cross a and b by associating a score of 20 if genotypes are alternatively fixed in each cross parent or a score of 5 if fixed in one parent and unknown in the other (any other genotype combination received 0) and an impact score (IS) from the snpEff annotation (low impact or modifier mutation = 1, moderate impact = 5, high impact = 10). We sum the results for the n sites present in the gene or CDS. We weigh this sum using the length l of the gene or the CDS, and the square root of the distance d between the position of the highest LOD score (peak) and the start of the gene or the CDS. This was finally modulated by an expression factor e of 1 if expressed or -1 otherwise. Jupyter notebook and scripts used to obtain gene expression are available on [Github](https://github.com/fdchevalier/Sm_gene_expression)."
   ]
  },
  {
   "cell_type": "code",
   "execution_count": null,
   "metadata": {},
   "outputs": [],
   "source": [
    "Rscript scripts/Candidate_genes.R"
   ]
  }
 ],
 "metadata": {
  "kernelspec": {
   "display_name": "Bash",
   "language": "bash",
   "name": "bash"
  },
  "language_info": {
   "codemirror_mode": "shell",
   "file_extension": ".sh",
   "mimetype": "text/x-sh",
   "name": "bash"
  },
  "toc": {
   "base_numbering": 1,
   "nav_menu": {},
   "number_sections": false,
   "sideBar": true,
   "skip_h1_title": true,
   "title_cell": "Table of Contents",
   "title_sidebar": "Contents",
   "toc_cell": false,
   "toc_position": {
    "height": "calc(100% - 180px)",
    "left": "10px",
    "top": "150px",
    "width": "228px"
   },
   "toc_section_display": true,
   "toc_window_display": true
  },
  "varInspector": {
   "cols": {
    "lenName": 16,
    "lenType": 16,
    "lenVar": 40
   },
   "kernels_config": {
    "python": {
     "delete_cmd_postfix": "",
     "delete_cmd_prefix": "del ",
     "library": "var_list.py",
     "varRefreshCmd": "print(var_dic_list())"
    },
    "r": {
     "delete_cmd_postfix": ") ",
     "delete_cmd_prefix": "rm(",
     "library": "var_list.r",
     "varRefreshCmd": "cat(var_dic_list()) "
    }
   },
   "types_to_exclude": [
    "module",
    "function",
    "builtin_function_or_method",
    "instance",
    "_Feature"
   ],
   "window_display": false
  }
 },
 "nbformat": 4,
 "nbformat_minor": 4
}
