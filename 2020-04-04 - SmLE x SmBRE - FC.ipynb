{
 "cells": [
  {
   "cell_type": "markdown",
   "metadata": {},
   "source": [
    "# 2020-04-04 SmLE x SmBRE\n",
    "\n",
    "\n",
    "## Aim\n",
    "\n",
    "Redo the analysis with the latest genome and everything\n",
    "\n",
    "\n",
    "## Environment and data"
   ]
  },
  {
   "cell_type": "code",
   "execution_count": null,
   "metadata": {},
   "outputs": [],
   "source": [
    "conda env create -f .env/env.yml"
   ]
  },
  {
   "cell_type": "code",
   "execution_count": 1,
   "metadata": {
    "ExecuteTime": {
     "end_time": "2020-06-21T22:07:31.335560Z",
     "start_time": "2020-06-21T22:07:16.480628Z"
    }
   },
   "outputs": [
    {
     "name": "stdout",
     "output_type": "stream",
     "text": [
      "(cerc_prod) "
     ]
    },
    {
     "ename": "",
     "evalue": "1",
     "output_type": "error",
     "traceback": []
    }
   ],
   "source": [
    "# Activate the environment\n",
    "source $(sed \"s,/bin/conda,,\" <<<$CONDA_EXE)/etc/profile.d/conda.sh\n",
    "conda activate cerc_prod"
   ]
  },
  {
   "cell_type": "markdown",
   "metadata": {},
   "source": [
    "### Genome"
   ]
  },
  {
   "cell_type": "code",
   "execution_count": 3,
   "metadata": {
    "scrolled": true
   },
   "outputs": [
    {
     "name": "stdout",
     "output_type": "stream",
     "text": [
      "(PZQ-R) (PZQ-R) (PZQ-R) --2020-05-13 15:22:46--  ftp://ftp.ebi.ac.uk/pub/databases/wormbase/parasite/releases/WBPS14/species/schistosoma_mansoni/PRJEA36577/schistosoma_mansoni.PRJEA36577.WBPS14.genomic.fa.gz\n",
      "           => ‘data/genome/schistosoma_mansoni.PRJEA36577.WBPS14.genomic.fa.gz’\n",
      "Resolving ftp.ebi.ac.uk... 193.62.197.74\n",
      "Connecting to ftp.ebi.ac.uk|193.62.197.74|:21... connected.\n",
      "Logging in as anonymous ... Logged in!\n",
      "==> SYST ... done.    ==> PWD ... done.\n",
      "==> TYPE I ... done.  ==> CWD (1) /pub/databases/wormbase/parasite/releases/WBPS14/species/schistosoma_mansoni/PRJEA36577 ... done.\n",
      "==> SIZE schistosoma_mansoni.PRJEA36577.WBPS14.genomic.fa.gz ... 120198881\n",
      "==> PASV ... done.    ==> RETR schistosoma_mansoni.PRJEA36577.WBPS14.genomic.fa.gz ... done.\n",
      "Length: 120198881 (115M) (unauthoritative)\n",
      "\n",
      "schistosoma_mansoni 100%[===================>] 114.63M   893KB/s    in 2m 38s  \n",
      "\n",
      "2020-05-13 15:25:25 (744 KB/s) - ‘data/genome/schistosoma_mansoni.PRJEA36577.WBPS14.genomic.fa.gz’ saved [120198881]\n",
      "\n",
      "(PZQ-R) (PZQ-R) (PZQ-R) (PZQ-R) (PZQ-R) [bwa_index] Pack FASTA... 3.48 sec\n",
      "[bwa_index] Construct BWT for the packed sequence...\n",
      "[BWTIncCreate] textLength=819158016, availableWord=69638524\n",
      "[BWTIncConstructFromPacked] 10 iterations done. 100000000 characters processed.\n",
      "[BWTIncConstructFromPacked] 20 iterations done. 198066176 characters processed.\n",
      "[BWTIncConstructFromPacked] 30 iterations done. 286163216 characters processed.\n",
      "[BWTIncConstructFromPacked] 40 iterations done. 364460080 characters processed.\n",
      "[BWTIncConstructFromPacked] 50 iterations done. 434046528 characters processed.\n",
      "[BWTIncConstructFromPacked] 60 iterations done. 495891136 characters processed.\n",
      "[BWTIncConstructFromPacked] 70 iterations done. 550854768 characters processed.\n",
      "[BWTIncConstructFromPacked] 80 iterations done. 599702560 characters processed.\n",
      "[BWTIncConstructFromPacked] 90 iterations done. 643114592 characters processed.\n",
      "[BWTIncConstructFromPacked] 100 iterations done. 681695248 characters processed.\n",
      "[BWTIncConstructFromPacked] 110 iterations done. 715981840 characters processed.\n",
      "[BWTIncConstructFromPacked] 120 iterations done. 746451760 characters processed.\n",
      "[BWTIncConstructFromPacked] 130 iterations done. 773529536 characters processed.\n",
      "[BWTIncConstructFromPacked] 140 iterations done. 797592288 characters processed.\n",
      "[BWTIncConstructFromPacked] 150 iterations done. 818975312 characters processed.\n",
      "[bwt_gen] Finished constructing BWT in 151 iterations.\n",
      "[bwa_index] 338.84 seconds elapse.\n",
      "[bwa_index] Update BWT... 5.83 sec\n",
      "[bwa_index] Pack forward-only FASTA... 2.20 sec\n",
      "[bwa_index] Construct SA from BWT and Occ... 111.39 sec\n",
      "[main] Version: 0.7.17-r1188\n",
      "[main] CMD: bwa index data/genome/schistosoma_mansoni.PRJEA36577.WBPS14.genomic.fa\n",
      "[main] Real time: 503.100 sec; CPU: 461.750 sec\n",
      "(PZQ-R) samtools: error while loading shared libraries: libcrypto.so.1.0.0: cannot open shared object file: No such file or directory\n",
      "(PZQ-R) Using GATK jar /master/fcheval/local/pckg/python/miniconda3/envs/PZQ-R/share/gatk4-4.1.5.0-1/gatk-package-4.1.5.0-local.jar\n",
      "Running:\n",
      "    java -Dsamjdk.use_async_io_read_samtools=false -Dsamjdk.use_async_io_write_samtools=true -Dsamjdk.use_async_io_write_tribble=false -Dsamjdk.compression_level=2 -jar /master/fcheval/local/pckg/python/miniconda3/envs/PZQ-R/share/gatk4-4.1.5.0-1/gatk-package-4.1.5.0-local.jar CreateSequenceDictionary -R data/genome/schistosoma_mansoni.PRJEA36577.WBPS14.genomic.fa\n",
      "INFO\t2020-05-13 15:34:16\tCreateSequenceDictionary\tOutput dictionary will be written in data/genome/schistosoma_mansoni.PRJEA36577.WBPS14.genomic.dict\n",
      "15:34:16.418 INFO  NativeLibraryLoader - Loading libgkl_compression.so from jar:file:/master/fcheval/local/pckg/python/miniconda3/envs/PZQ-R/share/gatk4-4.1.5.0-1/gatk-package-4.1.5.0-local.jar!/com/intel/gkl/native/libgkl_compression.so\n",
      "[Wed May 13 15:34:16 CDT 2020] CreateSequenceDictionary  --REFERENCE data/genome/schistosoma_mansoni.PRJEA36577.WBPS14.genomic.fa  --TRUNCATE_NAMES_AT_WHITESPACE true --NUM_SEQUENCES 2147483647 --VERBOSITY INFO --QUIET false --VALIDATION_STRINGENCY STRICT --COMPRESSION_LEVEL 2 --MAX_RECORDS_IN_RAM 500000 --CREATE_INDEX false --CREATE_MD5_FILE false --GA4GH_CLIENT_SECRETS client_secrets.json --help false --version false --showHidden false --USE_JDK_DEFLATER false --USE_JDK_INFLATER false\n",
      "May 13, 2020 3:34:17 PM shaded.cloud_nio.com.google.auth.oauth2.ComputeEngineCredentials runningOnComputeEngine\n",
      "INFO: Failed to detect whether we are running on Google Compute Engine.\n",
      "[Wed May 13 15:34:17 CDT 2020] Executing as fcheval@bulmer on Linux 3.10.0-693.11.1.el7.x86_64 amd64; OpenJDK 64-Bit Server VM 1.8.0_152-release-1056-b12; Deflater: Intel; Inflater: Intel; Provider GCS is available; Picard version: Version:4.1.5.0\n",
      "[Wed May 13 15:34:21 CDT 2020] picard.sam.CreateSequenceDictionary done. Elapsed time: 0.09 minutes.\n",
      "Runtime.totalMemory()=1027080192\n",
      "Tool returned:\n",
      "0\n",
      "(PZQ-R) "
     ]
    },
    {
     "ename": "",
     "evalue": "1",
     "output_type": "error",
     "traceback": []
    }
   ],
   "source": [
    "gdir=\"data/genome\"\n",
    "[[ ! -d \"$gdir\" ]] && mkdir -p \"$gdir\"\n",
    "\n",
    "wget -P \"$gdir\" ftp://ftp.ebi.ac.uk/pub/databases/wormbase/parasite/releases/WBPS14/species/schistosoma_mansoni/PRJEA36577/schistosoma_mansoni.PRJEA36577.WBPS14.genomic.fa.gz\n",
    "\n",
    "pigz -d \"$gdir/schistosoma_mansoni.PRJEA36577.WBPS14.genomic.fa.gz\"\n",
    "\n",
    "# Preparing indices\n",
    "bwa index \"$gdir/schistosoma_mansoni.PRJEA36577.WBPS14.genomic.fa\"\n",
    "samtools faidx \"$gdir/schistosoma_mansoni.PRJEA36577.WBPS14.genomic.fa\"\n",
    "gatk CreateSequenceDictionary -R \"$gdir/schistosoma_mansoni.PRJEA36577.WBPS14.genomic.fa\""
   ]
  },
  {
   "cell_type": "markdown",
   "metadata": {},
   "source": [
    "### snpEff database\n",
    "\n",
    "To annotate the functional consequences of the variant in the VCF file, we use the snpEff tool. Because the reference genome is recent, we have to build a snpEff database in order to annotate the variants. "
   ]
  },
  {
   "cell_type": "code",
   "execution_count": null,
   "metadata": {
    "ExecuteTime": {
     "end_time": "2020-06-08T22:59:45.361157Z",
     "start_time": "2020-06-08T22:58:38.711831Z"
    }
   },
   "outputs": [],
   "source": [
    "# Create snpEff folder\n",
    "sedir=\"$gdir/snpEff/\"\n",
    "mkdir \"$sedir\"\n",
    "\n",
    "# Download the S. mansoni genome annotation\n",
    "wget -P \"$gdir\" ftp://ftp.ebi.ac.uk/pub/databases/wormbase/parasite/releases/WBPS14/species/schistosoma_mansoni/PRJEA36577/schistosoma_mansoni.PRJEA36577.WBPS14.annotations.gff3.gz\n",
    "pigz -d \"$gdir/schistosoma_mansoni.PRJEA36577.WBPS14.annotations.gff3.gz\"\n",
    "\n",
    "# Convert gff to gtf to make it easier for snpEff\n",
    "gffread \"$gdir/schistosoma_mansoni.PRJEA36577.WBPS14.annotations.gff3\" -T -o \"$gdir/schistosoma_mansoni.PRJEA36577.WBPS14.annotations.gtf\"\n",
    "\n",
    "# Custom snpEff config file\n",
    "cp ~/local/pckg/python/miniconda3/envs/host_spec/share/snpeff-4.3.1t-3/snpEff.config \"$sedir\"\n",
    "\n",
    "## Identify mitochondrial chromosome\n",
    "mito=$(grep -i \">.*mito.*\" \"$gdir/schistosoma_mansoni.PRJEA36577.WBPS14.genomic.fa\" | sed -r \"s/>(.*) .*/\\1/\")\n",
    "\n",
    "##  Add schistosome genome and specify mitochondrial chromosome\n",
    "sed -i -r \"s|data.dir = ./data/|data.dir = .| ; s|(# Ebola virus)|# S. mansoni\\nsmansoni.genome: Schistosoma_mansoni\\n\\tsmansoni.$mito.codonTable : Trematode_Mitochondrial\\n\\n\\1|\" \"$sedir\"/snpEff.config\n",
    "\n",
    "# Create the mandatory folder and link to the needed files\n",
    "mkdir \"$sedir\"/genomes\n",
    "ln -s \"$PWD/$gdir/schistosoma_mansoni.PRJEA36577.WBPS14.genomic.fa\" \"$PWD/$sedir/genomes/smansoni.fa\"\n",
    "\n",
    "mkdir \"$sedir\"/smansoni\n",
    "ln -s \"$PWD/$gdir/schistosoma_mansoni.PRJEA36577.WBPS14.annotations.gtf\" \"$PWD/$sedir/smansoni/genes.gtf\"\n",
    "\n",
    "# Generate the database\n",
    "snpEff build -v -c data/genome/snpEff/snpEff.config smansoni"
   ]
  },
  {
   "cell_type": "markdown",
   "metadata": {},
   "source": [
    "### Library"
   ]
  },
  {
   "cell_type": "code",
   "execution_count": 4,
   "metadata": {},
   "outputs": [
    {
     "name": "stdout",
     "output_type": "stream",
     "text": [
      "(PZQ-R) (PZQ-R) (PZQ-R) (PZQ-R) "
     ]
    },
    {
     "ename": "",
     "evalue": "1",
     "output_type": "error",
     "traceback": []
    }
   ],
   "source": [
    "ldir=\"data/libraries/\"\n",
    "[[ ! -d \"$ldir\" ]] && mkdir -p \"$ldir\"\n",
    "\n",
    "# Linking F2\n",
    "data_ln.sh -d ../2016-05-17\\ SmLE\\ x\\ SmBRE/0-Libraries/A -e *F2*fastq.gz -t data/libraries/\n",
    "data_ln.sh -d ../2016-05-17\\ SmLE\\ x\\ SmBRE/0-Libraries/B -e *F2*fastq.gz -t data/libraries/\n",
    "data_ln.sh -d ../2016-05-17\\ SmLE\\ x\\ SmBRE/0-Libraries_2/ -e *fastq.gz -t data/libraries/\n",
    "data_ln.sh -d ../2016-05-17\\ SmLE\\ x\\ SmBRE/0-Libraries_3/B -e *fastq.gz -t data/libraries/\n",
    "\n",
    "# Linking F1\n",
    "data_ln.sh -d ../2016-05-17\\ SmLE\\ x\\ SmBRE/0-Libraries/A -e *F1*fastq.gz -t data/libraries/\n",
    "data_ln.sh -d ../2016-05-17\\ SmLE\\ x\\ SmBRE/0-Libraries/B -e *F1*fastq.gz -t data/libraries/\n",
    "\n",
    "# Linking parents\n",
    "data_ln.sh -d ../2016-05-17\\ SmLE\\ x\\ SmBRE/0-Libraries/WGS_parents/ -e *fastq.gz -t data/libraries/"
   ]
  },
  {
   "cell_type": "markdown",
   "metadata": {},
   "source": [
    "### Known variants\n",
    "\n",
    "List of variants from the SmLE x SmHR cross that segregated in a Mendelian fashion in F1. This list was generated from alignments using the v5 genome. This has been lifted over to the latest genome using the [flo pipeline](https://github.com/wurmlab/flo/tree/727f10b2b1c57a0514835d302d7f6345d3a34ffb)."
   ]
  },
  {
   "cell_type": "code",
   "execution_count": null,
   "metadata": {},
   "outputs": [],
   "source": [
    "# Index file\n",
    "gatk IndexFeatureFile -I \"$gdir/sm_dbSNP_v7.vcf\""
   ]
  },
  {
   "cell_type": "markdown",
   "metadata": {},
   "source": [
    "## Run snakemake pipeline"
   ]
  },
  {
   "cell_type": "code",
   "execution_count": null,
   "metadata": {},
   "outputs": [],
   "source": [
    "snakemake --snakefile snakefile --cluster \"qsub -V -cwd -o status -j y -r y -pe smp 12 -S /bin/bash\" --jobs 384 -w 300"
   ]
  },
  {
   "cell_type": "markdown",
   "metadata": {},
   "source": [
    "## Variant annotation\n",
    "\n",
    "Functional consequences of variants is annotated to the VCF file using snpEff."
   ]
  },
  {
   "cell_type": "code",
   "execution_count": null,
   "metadata": {},
   "outputs": [],
   "source": [
    "snpEff -v -c \"$sedir/snpEff.config\" smansoni \"data/calling/cerc_prod.vcf.gz\" | bgzip -c -@ $(nproc) > \"data/calling/cerc_prod_snpEff.vcf.gz\"\n",
    "\n",
    "# Index the VCF file\n",
    "tabix \"data/calling/cerc_prod_snpEff.vcf.gz\""
   ]
  },
  {
   "cell_type": "code",
   "execution_count": 11,
   "metadata": {
    "ExecuteTime": {
     "end_time": "2020-06-18T23:39:01.268560Z",
     "start_time": "2020-06-18T23:39:01.091620Z"
    }
   },
   "outputs": [
    {
     "name": "stdout",
     "output_type": "stream",
     "text": [
      "(cerc_prod) (cerc_prod) "
     ]
    },
    {
     "ename": "",
     "evalue": "1",
     "output_type": "error",
     "traceback": []
    }
   ],
   "source": [
    "# Move file in the right folder\n",
    "mv -t \"data/calling/\" snpEff_summary.* snpEff_genes.txt"
   ]
  },
  {
   "cell_type": "markdown",
   "metadata": {},
   "source": [
    "### Selection of informative sites\n",
    "\n",
    "Because variant calling was performed on exome capture samples (F1 and F2) and whole genome sequenced samples (parents), most of the site called are uninformative (only identified in parents). To speed up analysis, only sites that have more less than 50% of missing data will be retained."
   ]
  },
  {
   "cell_type": "code",
   "execution_count": 3,
   "metadata": {
    "ExecuteTime": {
     "end_time": "2020-06-22T04:34:06.699604Z",
     "start_time": "2020-06-22T04:02:39.461119Z"
    }
   },
   "outputs": [
    {
     "name": "stdout",
     "output_type": "stream",
     "text": [
      "Using GATK jar /master/fcheval/local/pckg/python/miniconda3/envs/cerc_prod/share/gatk4-4.1.7.0-0/gatk-package-4.1.7.0-local.jar\n",
      "Running:\n",
      "    java -Dsamjdk.use_async_io_read_samtools=false -Dsamjdk.use_async_io_write_samtools=true -Dsamjdk.use_async_io_write_tribble=false -Dsamjdk.compression_level=2 -jar /master/fcheval/local/pckg/python/miniconda3/envs/cerc_prod/share/gatk4-4.1.7.0-0/gatk-package-4.1.7.0-local.jar SelectVariants -V data/calling/cerc_prod_snpEff.vcf.gz --max-nocall-fraction 0.5 -O data/calling/cerc_prod_snpEff_reduced.vcf.gz\n",
      "23:02:48.844 INFO  NativeLibraryLoader - Loading libgkl_compression.so from jar:file:/master/fcheval/local/pckg/python/miniconda3/envs/cerc_prod/share/gatk4-4.1.7.0-0/gatk-package-4.1.7.0-local.jar!/com/intel/gkl/native/libgkl_compression.so\n",
      "Jun 21, 2020 11:02:49 PM shaded.cloud_nio.com.google.auth.oauth2.ComputeEngineCredentials runningOnComputeEngine\n",
      "INFO: Failed to detect whether we are running on Google Compute Engine.\n",
      "23:02:49.906 INFO  SelectVariants - ------------------------------------------------------------\n",
      "23:02:49.907 INFO  SelectVariants - The Genome Analysis Toolkit (GATK) v4.1.7.0\n",
      "23:02:49.907 INFO  SelectVariants - For support and documentation go to https://software.broadinstitute.org/gatk/\n",
      "23:02:49.907 INFO  SelectVariants - Executing as fcheval@bulmer on Linux v3.10.0-693.11.1.el7.x86_64 amd64\n",
      "23:02:49.907 INFO  SelectVariants - Java runtime: OpenJDK 64-Bit Server VM v1.8.0_152-release-1056-b12\n",
      "23:02:49.908 INFO  SelectVariants - Start Date/Time: June 21, 2020 11:02:48 PM CDT\n",
      "23:02:49.908 INFO  SelectVariants - ------------------------------------------------------------\n",
      "23:02:49.908 INFO  SelectVariants - ------------------------------------------------------------\n",
      "23:02:49.908 INFO  SelectVariants - HTSJDK Version: 2.21.2\n",
      "23:02:49.908 INFO  SelectVariants - Picard Version: 2.21.9\n",
      "23:02:49.909 INFO  SelectVariants - HTSJDK Defaults.COMPRESSION_LEVEL : 2\n",
      "23:02:49.909 INFO  SelectVariants - HTSJDK Defaults.USE_ASYNC_IO_READ_FOR_SAMTOOLS : false\n",
      "23:02:49.909 INFO  SelectVariants - HTSJDK Defaults.USE_ASYNC_IO_WRITE_FOR_SAMTOOLS : true\n",
      "23:02:49.909 INFO  SelectVariants - HTSJDK Defaults.USE_ASYNC_IO_WRITE_FOR_TRIBBLE : false\n",
      "23:02:49.909 INFO  SelectVariants - Deflater: IntelDeflater\n",
      "23:02:49.909 INFO  SelectVariants - Inflater: IntelInflater\n",
      "23:02:49.909 INFO  SelectVariants - GCS max retries/reopens: 20\n",
      "23:02:49.909 INFO  SelectVariants - Requester pays: disabled\n",
      "23:02:49.909 INFO  SelectVariants - Initializing engine\n",
      "23:02:50.346 INFO  FeatureManager - Using codec VCFCodec to read file file:///data/infectious/schistosome/07%20-%20Virulence%20project/2020-04-04%20SmLE%20x%20SmBRE%20(after%20doom)/data/calling/cerc_prod_snpEff.vcf.gz\n",
      "23:02:50.443 INFO  SelectVariants - Done initializing engine\n",
      "23:02:50.503 INFO  ProgressMeter - Starting traversal\n",
      "23:02:50.503 INFO  ProgressMeter -        Current Locus  Elapsed Minutes    Variants Processed  Variants/Minute\n",
      "23:03:00.875 INFO  ProgressMeter -      SM_V7_1:1740492              0.2                 23000         133050.5\n",
      "23:03:10.937 INFO  ProgressMeter -      SM_V7_1:3844959              0.3                 49000         143877.9\n",
      "23:03:21.011 INFO  ProgressMeter -      SM_V7_1:6111796              0.5                 74000         145535.6\n",
      "23:03:31.028 INFO  ProgressMeter -      SM_V7_1:8523627              0.7                100000         148056.8\n",
      "23:03:41.560 INFO  ProgressMeter -     SM_V7_1:10182907              0.9                126000         148069.8\n",
      "23:03:51.883 INFO  ProgressMeter -     SM_V7_1:12246603              1.0                152000         148582.6\n",
      "23:04:02.066 INFO  ProgressMeter -     SM_V7_1:14512565              1.2                179000         150077.6\n",
      "23:04:12.083 INFO  ProgressMeter -     SM_V7_1:17159634              1.4                205000         150772.2\n",
      "23:04:22.442 INFO  ProgressMeter -     SM_V7_1:19595047              1.5                232000         151404.7\n",
      "23:04:32.667 INFO  ProgressMeter -     SM_V7_1:22214006              1.7                258000         151522.6\n",
      "23:04:42.912 INFO  ProgressMeter -     SM_V7_1:24516322              1.9                285000         152123.1\n",
      "23:04:53.012 INFO  ProgressMeter -     SM_V7_1:26872920              2.0                311000         152316.6\n",
      "23:05:03.325 INFO  ProgressMeter -     SM_V7_1:29305660              2.2                338000         152685.5\n",
      "23:05:13.443 INFO  ProgressMeter -     SM_V7_1:31894808              2.4                365000         153211.1\n",
      "23:05:23.609 INFO  ProgressMeter -     SM_V7_1:34356823              2.6                392000         153620.1\n",
      "23:05:33.823 INFO  ProgressMeter -     SM_V7_1:36984238              2.7                418000         153563.6\n",
      "23:05:44.054 INFO  ProgressMeter -     SM_V7_1:39704011              2.9                445000         153845.3\n",
      "23:05:54.249 INFO  ProgressMeter -     SM_V7_1:42423467              3.1                472000         154126.6\n",
      "23:06:04.439 INFO  ProgressMeter -     SM_V7_1:45283510              3.2                499000         154381.6\n",
      "23:06:14.569 INFO  ProgressMeter -     SM_V7_1:47798752              3.4                526000         154656.6\n",
      "23:06:24.675 INFO  ProgressMeter -     SM_V7_1:50118902              3.6                553000         154922.2\n",
      "23:06:34.743 INFO  ProgressMeter -     SM_V7_1:52236829              3.7                580000         155191.6\n",
      "23:06:45.085 INFO  ProgressMeter -     SM_V7_1:54588429              3.9                607000         155254.9\n",
      "23:06:55.426 INFO  ProgressMeter -     SM_V7_1:57004365              4.1                634000         155314.1\n",
      "23:07:05.559 INFO  ProgressMeter -     SM_V7_1:59620142              4.3                661000         155495.3\n",
      "23:07:15.730 INFO  ProgressMeter -     SM_V7_1:62489409              4.4                688000         155640.3\n",
      "23:07:25.973 INFO  ProgressMeter -     SM_V7_1:64825834              4.6                715000         155733.8\n",
      "23:07:36.230 INFO  ProgressMeter -     SM_V7_1:67374154              4.8                742000         155813.1\n",
      "23:07:46.581 INFO  ProgressMeter -     SM_V7_1:69892764              4.9                769000         155837.3\n",
      "23:07:56.727 INFO  ProgressMeter -     SM_V7_1:71912696              5.1                795000         155768.3\n",
      "23:08:06.995 INFO  ProgressMeter -     SM_V7_1:74145941              5.3                822000         155833.8\n",
      "23:08:17.293 INFO  ProgressMeter -     SM_V7_1:76784887              5.4                849000         155879.9\n",
      "23:08:27.654 INFO  ProgressMeter -     SM_V7_1:79101153              5.6                876000         155894.5\n",
      "23:08:37.822 INFO  ProgressMeter -     SM_V7_1:81172252              5.8                902000         155822.2\n",
      "23:08:48.080 INFO  ProgressMeter -     SM_V7_1:83397155              6.0                929000         155882.5\n",
      "23:08:58.085 INFO  ProgressMeter -     SM_V7_1:85560407              6.1                955000         155883.6\n",
      "23:09:08.113 INFO  ProgressMeter -     SM_V7_1:87691444              6.3                981000         155875.1\n",
      "23:09:18.196 INFO  ProgressMeter -      SM_V7_ZW:946731              6.5               1007000         155845.0\n",
      "23:09:28.381 INFO  ProgressMeter -     SM_V7_ZW:1408552              6.6               1031000         155474.8\n",
      "23:09:38.783 INFO  ProgressMeter -     SM_V7_ZW:2457360              6.8               1057000         155335.0\n",
      "23:09:49.048 INFO  ProgressMeter -     SM_V7_ZW:4426780              7.0               1084000         155395.5\n",
      "23:09:59.233 INFO  ProgressMeter -     SM_V7_ZW:6092112              7.1               1111000         155482.8\n",
      "23:10:09.280 INFO  ProgressMeter -     SM_V7_ZW:8262296              7.3               1137000         155477.6\n",
      "23:10:19.550 INFO  ProgressMeter -    SM_V7_ZW:10041213              7.5               1162000         155262.5\n",
      "23:10:29.622 INFO  ProgressMeter -    SM_V7_ZW:12498194              7.7               1187000         155139.7\n",
      "23:10:39.667 INFO  ProgressMeter -    SM_V7_ZW:15929821              7.8               1213000         155127.3\n",
      "23:10:49.862 INFO  ProgressMeter -    SM_V7_ZW:18899260              8.0               1239000         155082.1\n"
     ]
    },
    {
     "name": "stdout",
     "output_type": "stream",
     "text": [
      "23:11:00.103 INFO  ProgressMeter -    SM_V7_ZW:22063135              8.2               1266000         155147.1\n",
      "23:11:10.374 INFO  ProgressMeter -    SM_V7_ZW:25195527              8.3               1293000         155200.0\n",
      "23:11:20.639 INFO  ProgressMeter -    SM_V7_ZW:28354401              8.5               1319000         155135.1\n",
      "23:11:30.656 INFO  ProgressMeter -    SM_V7_ZW:31622083              8.7               1345000         155146.7\n",
      "23:11:40.864 INFO  ProgressMeter -    SM_V7_ZW:35260079              8.8               1372000         155215.0\n",
      "23:11:51.232 INFO  ProgressMeter -    SM_V7_ZW:39297817              9.0               1399000         155234.9\n",
      "23:12:01.385 INFO  ProgressMeter -    SM_V7_ZW:42908389              9.2               1426000         155314.6\n",
      "23:12:11.709 INFO  ProgressMeter -    SM_V7_ZW:45923529              9.4               1453000         155344.0\n",
      "23:12:21.839 INFO  ProgressMeter -    SM_V7_ZW:48278818              9.5               1479000         155320.2\n",
      "23:12:31.872 INFO  ProgressMeter -    SM_V7_ZW:50781494              9.7               1506000         155426.2\n",
      "23:12:42.055 INFO  ProgressMeter -    SM_V7_ZW:53527200              9.9               1533000         155489.3\n",
      "23:12:52.126 INFO  ProgressMeter -    SM_V7_ZW:56308315             10.0               1560000         155579.2\n",
      "23:13:02.485 INFO  ProgressMeter -    SM_V7_ZW:58967423             10.2               1587000         155593.1\n",
      "23:13:12.820 INFO  ProgressMeter -    SM_V7_ZW:61395577             10.4               1614000         155612.0\n",
      "23:13:22.874 INFO  ProgressMeter -    SM_V7_ZW:63839388             10.5               1641000         155699.7\n",
      "23:13:33.063 INFO  ProgressMeter -    SM_V7_ZW:66210270             10.7               1668000         155752.0\n",
      "23:13:43.102 INFO  ProgressMeter -    SM_V7_ZW:67816522             10.9               1693000         155654.5\n",
      "23:13:53.419 INFO  ProgressMeter -    SM_V7_ZW:70120615             11.0               1720000         155675.8\n",
      "23:14:03.557 INFO  ProgressMeter -    SM_V7_ZW:72467953             11.2               1746000         155649.0\n",
      "23:14:13.806 INFO  ProgressMeter -    SM_V7_ZW:75081087             11.4               1773000         155685.0\n",
      "23:14:23.825 INFO  ProgressMeter -    SM_V7_ZW:77225193             11.6               1800000         155771.8\n",
      "23:14:33.976 INFO  ProgressMeter -    SM_V7_ZW:79769230             11.7               1827000         155826.9\n",
      "23:14:44.262 INFO  ProgressMeter -    SM_V7_ZW:81882719             11.9               1854000         155850.9\n",
      "23:14:54.313 INFO  ProgressMeter -    SM_V7_ZW:84082330             12.1               1880000         155842.0\n",
      "23:15:04.658 INFO  ProgressMeter -    SM_V7_ZW:86299729             12.2               1907000         155852.6\n",
      "23:15:14.679 INFO  ProgressMeter -    SM_V7_ZW:88295692             12.4               1932000         155769.6\n",
      "23:15:24.681 INFO  ProgressMeter -      SM_V7_3:1311955             12.6               1956000         155613.1\n",
      "23:15:34.900 INFO  ProgressMeter -      SM_V7_3:2325382             12.7               1979000         155338.3\n",
      "23:15:45.146 INFO  ProgressMeter -      SM_V7_3:3058533             12.9               2003000         155142.4\n",
      "23:15:55.365 INFO  ProgressMeter -      SM_V7_3:4468167             13.1               2028000         155033.6\n",
      "23:16:05.674 INFO  ProgressMeter -      SM_V7_3:6498481             13.3               2055000         155061.0\n",
      "23:16:15.974 INFO  ProgressMeter -     SM_V7_3:11698143             13.4               2081000         155014.9\n",
      "23:16:26.149 INFO  ProgressMeter -     SM_V7_3:13969786             13.6               2108000         155067.3\n",
      "23:16:36.463 INFO  ProgressMeter -     SM_V7_3:16509356             13.8               2135000         155092.3\n",
      "23:16:46.715 INFO  ProgressMeter -     SM_V7_3:18676137             13.9               2161000         155056.4\n",
      "23:16:56.868 INFO  ProgressMeter -     SM_V7_3:21344879             14.1               2188000         155110.4\n",
      "23:17:06.923 INFO  ProgressMeter -     SM_V7_3:23838768             14.3               2215000         155180.9\n",
      "23:17:17.316 INFO  ProgressMeter -     SM_V7_3:26655973             14.4               2242000         155189.2\n",
      "23:17:27.414 INFO  ProgressMeter -     SM_V7_3:29602682             14.6               2269000         155249.5\n",
      "23:17:37.689 INFO  ProgressMeter -     SM_V7_3:32363436             14.8               2296000         155277.5\n",
      "23:17:47.924 INFO  ProgressMeter -     SM_V7_3:35135268             15.0               2323000         155311.7\n",
      "23:17:58.131 INFO  ProgressMeter -     SM_V7_3:36388864             15.1               2347000         155151.7\n",
      "23:18:08.245 INFO  ProgressMeter -     SM_V7_3:38510608             15.3               2373000         155141.6\n",
      "23:18:18.266 INFO  ProgressMeter -     SM_V7_3:40680350             15.5               2399000         155147.4\n",
      "23:18:28.320 INFO  ProgressMeter -     SM_V7_3:41779040             15.6               2424000         155083.6\n",
      "23:18:38.572 INFO  ProgressMeter -     SM_V7_3:43694235             15.8               2449000         154988.7\n",
      "23:18:48.920 INFO  ProgressMeter -     SM_V7_3:45578146             16.0               2475000         154943.0\n",
      "23:18:59.156 INFO  ProgressMeter -     SM_V7_3:47941224             16.1               2500000         154854.2\n",
      "23:19:09.174 INFO  ProgressMeter -     SM_V7_3:49642105             16.3               2525000         154801.8\n",
      "23:19:19.580 INFO  ProgressMeter -      SM_V7_2:1023507             16.5               2551000         154750.3\n",
      "23:19:29.925 INFO  ProgressMeter -      SM_V7_2:2382178             16.7               2574000         154529.3\n",
      "23:19:40.038 INFO  ProgressMeter -      SM_V7_2:3280559             16.8               2596000         154288.9\n",
      "23:19:50.197 INFO  ProgressMeter -      SM_V7_2:4141819             17.0               2619000         154105.1\n",
      "23:20:00.439 INFO  ProgressMeter -      SM_V7_2:4718206             17.2               2642000         153912.5\n",
      "23:20:10.748 INFO  ProgressMeter -      SM_V7_2:6707093             17.3               2669000         153944.5\n",
      "23:20:20.894 INFO  ProgressMeter -      SM_V7_2:8557653             17.5               2695000         153942.7\n",
      "23:20:31.189 INFO  ProgressMeter -     SM_V7_2:10370449             17.7               2722000         153975.8\n",
      "23:20:41.405 INFO  ProgressMeter -     SM_V7_2:12332788             17.8               2749000         154019.7\n",
      "23:20:51.540 INFO  ProgressMeter -     SM_V7_2:14667126             18.0               2775000         154018.8\n",
      "23:21:01.615 INFO  ProgressMeter -     SM_V7_2:16700412             18.2               2800000         153971.4\n",
      "23:21:11.735 INFO  ProgressMeter -     SM_V7_2:18876000             18.4               2826000         153973.0\n",
      "23:21:22.113 INFO  ProgressMeter -     SM_V7_2:21288752             18.5               2853000         153993.0\n",
      "23:21:32.326 INFO  ProgressMeter -     SM_V7_2:23630134             18.7               2880000         154035.0\n",
      "23:21:42.459 INFO  ProgressMeter -     SM_V7_2:25959049             18.9               2906000         154034.3\n",
      "23:21:52.647 INFO  ProgressMeter -     SM_V7_2:28336062             19.0               2933000         154078.6\n",
      "23:22:02.702 INFO  ProgressMeter -     SM_V7_2:31052168             19.2               2960000         154140.2\n",
      "23:22:13.011 INFO  ProgressMeter -     SM_V7_2:33578913             19.4               2987000         154166.7\n",
      "23:22:23.317 INFO  ProgressMeter -     SM_V7_2:35906128             19.5               3015000         154244.4\n",
      "23:22:33.574 INFO  ProgressMeter -     SM_V7_2:37910808             19.7               3041000         154225.7\n",
      "23:22:43.762 INFO  ProgressMeter -     SM_V7_2:40206255             19.9               3068000         154266.6\n",
      "23:22:54.057 INFO  ProgressMeter -     SM_V7_2:42942161             20.1               3094000         154243.2\n",
      "23:23:04.235 INFO  ProgressMeter -     SM_V7_2:44748417             20.2               3120000         154235.2\n",
      "23:23:14.441 INFO  ProgressMeter -     SM_V7_2:46527690             20.4               3146000         154223.5\n",
      "23:23:24.535 INFO  ProgressMeter -     SM_V7_2:47707917             20.6               3170000         154128.9\n"
     ]
    },
    {
     "name": "stdout",
     "output_type": "stream",
     "text": [
      "23:23:34.856 INFO  ProgressMeter -      SM_V7_4:1455892             20.7               3196000         154104.3\n",
      "23:23:45.185 INFO  ProgressMeter -      SM_V7_4:3765168             20.9               3223000         154126.7\n",
      "23:23:55.485 INFO  ProgressMeter -      SM_V7_4:5796481             21.1               3250000         154152.5\n",
      "23:24:05.568 INFO  ProgressMeter -      SM_V7_4:8336418             21.3               3275000         154109.8\n",
      "23:24:15.778 INFO  ProgressMeter -     SM_V7_4:10930346             21.4               3302000         154146.0\n",
      "23:24:26.083 INFO  ProgressMeter -     SM_V7_4:13393724             21.6               3329000         154170.3\n",
      "23:24:36.104 INFO  ProgressMeter -     SM_V7_4:14946468             21.8               3354000         154135.9\n",
      "23:24:46.481 INFO  ProgressMeter -     SM_V7_4:17419630             21.9               3382000         154197.2\n",
      "23:24:56.766 INFO  ProgressMeter -     SM_V7_4:19985892             22.1               3408000         154177.6\n",
      "23:25:06.999 INFO  ProgressMeter -     SM_V7_4:22514398             22.3               3435000         154209.2\n",
      "23:25:17.008 INFO  ProgressMeter -     SM_V7_4:25210396             22.4               3462000         154266.0\n",
      "23:25:27.065 INFO  ProgressMeter -     SM_V7_4:27767355             22.6               3489000         154316.7\n",
      "23:25:37.137 INFO  ProgressMeter -     SM_V7_4:30128639             22.8               3515000         154320.9\n",
      "23:25:47.227 INFO  ProgressMeter -     SM_V7_4:33307692             22.9               3542000         154366.5\n",
      "23:25:57.470 INFO  ProgressMeter -     SM_V7_4:35548057             23.1               3569000         154394.6\n",
      "23:26:07.690 INFO  ProgressMeter -     SM_V7_4:37977036             23.3               3595000         154381.6\n",
      "23:26:17.719 INFO  ProgressMeter -     SM_V7_4:39951978             23.5               3622000         154432.6\n",
      "23:26:27.740 INFO  ProgressMeter -     SM_V7_4:41695970             23.6               3648000         154441.4\n",
      "23:26:37.804 INFO  ProgressMeter -     SM_V7_4:43168980             23.8               3674000         154445.5\n",
      "23:26:47.855 INFO  ProgressMeter -     SM_V7_4:44270696             24.0               3697000         154325.6\n",
      "23:26:58.074 INFO  ProgressMeter -     SM_V7_4:45661217             24.1               3722000         154272.2\n",
      "23:27:08.414 INFO  ProgressMeter -       SM_V7_5:207663             24.3               3747000         154206.9\n",
      "23:27:18.717 INFO  ProgressMeter -      SM_V7_5:2098186             24.5               3773000         154187.3\n",
      "23:27:28.730 INFO  ProgressMeter -      SM_V7_5:3872457             24.6               3798000         154157.8\n",
      "23:27:38.958 INFO  ProgressMeter -      SM_V7_5:5356836             24.8               3822000         154065.9\n",
      "23:27:48.995 INFO  ProgressMeter -      SM_V7_5:6498448             25.0               3848000         154074.9\n",
      "23:27:59.253 INFO  ProgressMeter -      SM_V7_5:8571604             25.1               3873000         154021.5\n",
      "23:28:09.372 INFO  ProgressMeter -     SM_V7_5:11449073             25.3               3899000         154022.5\n",
      "23:28:19.397 INFO  ProgressMeter -     SM_V7_5:13901795             25.5               3926000         154072.3\n",
      "23:28:29.739 INFO  ProgressMeter -     SM_V7_5:15956585             25.7               3953000         154089.5\n",
      "23:28:40.036 INFO  ProgressMeter -     SM_V7_5:17224988             25.8               3978000         154033.5\n",
      "23:28:50.190 INFO  ProgressMeter -     SM_V7_5:18762402             26.0               4003000         153992.4\n",
      "23:29:00.266 INFO  ProgressMeter -     SM_V7_5:20665919             26.2               4028000         153959.5\n",
      "23:29:10.598 INFO  ProgressMeter -     SM_V7_5:21838101             26.3               4053000         153902.1\n",
      "23:29:20.637 INFO  ProgressMeter -     SM_V7_5:23865316             26.5               4079000         153911.6\n",
      "23:29:31.032 INFO  ProgressMeter -       SM_V7_6:413279             26.7               4106000         153924.1\n",
      "23:29:41.333 INFO  ProgressMeter -      SM_V7_6:1289988             26.8               4129000         153796.6\n",
      "23:29:51.410 INFO  ProgressMeter -      SM_V7_6:3070930             27.0               4154000         153765.8\n",
      "23:30:01.743 INFO  ProgressMeter -      SM_V7_6:5099552             27.2               4181000         153784.9\n",
      "23:30:11.787 INFO  ProgressMeter -      SM_V7_6:7440571             27.4               4207000         153794.2\n",
      "23:30:22.110 INFO  ProgressMeter -      SM_V7_6:9834280             27.5               4234000         153813.8\n",
      "23:30:32.269 INFO  ProgressMeter -     SM_V7_6:12279410             27.7               4261000         153848.4\n",
      "23:30:42.423 INFO  ProgressMeter -     SM_V7_6:14184979             27.9               4288000         153883.1\n",
      "23:30:52.671 INFO  ProgressMeter -     SM_V7_6:16226888             28.0               4315000         153908.5\n",
      "23:31:02.981 INFO  ProgressMeter -     SM_V7_6:18227781             28.2               4342000         153928.1\n",
      "23:31:13.306 INFO  ProgressMeter -     SM_V7_6:19608353             28.4               4368000         153910.9\n",
      "23:31:23.314 INFO  ProgressMeter -     SM_V7_6:20370679             28.5               4392000         153852.4\n",
      "23:31:33.820 INFO  ProgressMeter -     SM_V7_6:22235256             28.7               4419000         153854.5\n",
      "23:31:44.072 INFO  ProgressMeter -     SM_V7_6:24105880             28.9               4445000         153844.5\n",
      "23:31:54.293 INFO  ProgressMeter -      SM_V7_7:1201837             29.1               4471000         153837.3\n",
      "23:32:04.387 INFO  ProgressMeter -      SM_V7_7:2899475             29.2               4498000         153875.6\n",
      "23:32:14.444 INFO  ProgressMeter -      SM_V7_7:4964790             29.4               4524000         153882.7\n",
      "23:32:24.458 INFO  ProgressMeter -      SM_V7_7:6897882             29.6               4551000         153927.2\n",
      "23:32:34.515 INFO  ProgressMeter -      SM_V7_7:8649360             29.7               4577000         153934.0\n",
      "23:32:44.662 INFO  ProgressMeter -     SM_V7_7:11186703             29.9               4604000         153966.3\n",
      "23:32:54.887 INFO  ProgressMeter -     SM_V7_7:12535677             30.1               4630000         153958.4\n",
      "23:33:05.031 INFO  ProgressMeter -     SM_V7_7:14917171             30.2               4657000         153990.5\n",
      "23:33:15.043 INFO  ProgressMeter -     SM_V7_7:16742360             30.4               4683000         154000.5\n",
      "23:33:25.427 INFO  ProgressMeter -     SM_V7_7:18862661             30.6               4710000         154011.8\n",
      "23:33:35.627 INFO  ProgressMeter -    SM_V7_2H001:67585             30.8               4735000         153973.4\n",
      "23:33:45.982 INFO  ProgressMeter -    SM_V7_2H007:52134             30.9               4759000         153890.2\n",
      "23:33:56.286 INFO  ProgressMeter -      SM_V7_1001:9869             31.1               4784000         153844.3\n",
      "23:34:06.296 INFO  ProgressMeter -     SM_V7_2H029:7820             31.3               4808761         153815.3\n",
      "23:34:06.296 INFO  ProgressMeter - Traversal complete. Processed 4808761 total variants in 31.3 minutes.\n",
      "23:34:06.562 INFO  SelectVariants - Shutting down engine\n",
      "[June 21, 2020 11:34:06 PM CDT] org.broadinstitute.hellbender.tools.walkers.variantutils.SelectVariants done. Elapsed time: 31.30 minutes.\n",
      "Runtime.totalMemory()=722468864\n",
      "(cerc_prod) "
     ]
    },
    {
     "ename": "",
     "evalue": "1",
     "output_type": "error",
     "traceback": []
    }
   ],
   "source": [
    "gatk SelectVariants \\\n",
    "        -V \"data/calling/cerc_prod_snpEff.vcf.gz\" \\\n",
    "        --max-nocall-fraction 0.5 \\\n",
    "        -O \"data/calling/cerc_prod_snpEff_reduced.vcf.gz\""
   ]
  }
 ],
 "metadata": {
  "kernelspec": {
   "display_name": "Bash",
   "language": "bash",
   "name": "bash"
  },
  "language_info": {
   "codemirror_mode": "shell",
   "file_extension": ".sh",
   "mimetype": "text/x-sh",
   "name": "bash"
  },
  "toc": {
   "base_numbering": 1,
   "nav_menu": {},
   "number_sections": false,
   "sideBar": true,
   "skip_h1_title": true,
   "title_cell": "Table of Contents",
   "title_sidebar": "Contents",
   "toc_cell": false,
   "toc_position": {
    "height": "calc(100% - 180px)",
    "left": "10px",
    "top": "150px",
    "width": "228px"
   },
   "toc_section_display": true,
   "toc_window_display": true
  },
  "varInspector": {
   "cols": {
    "lenName": 16,
    "lenType": 16,
    "lenVar": 40
   },
   "kernels_config": {
    "python": {
     "delete_cmd_postfix": "",
     "delete_cmd_prefix": "del ",
     "library": "var_list.py",
     "varRefreshCmd": "print(var_dic_list())"
    },
    "r": {
     "delete_cmd_postfix": ") ",
     "delete_cmd_prefix": "rm(",
     "library": "var_list.r",
     "varRefreshCmd": "cat(var_dic_list()) "
    }
   },
   "types_to_exclude": [
    "module",
    "function",
    "builtin_function_or_method",
    "instance",
    "_Feature"
   ],
   "window_display": false
  }
 },
 "nbformat": 4,
 "nbformat_minor": 4
}
