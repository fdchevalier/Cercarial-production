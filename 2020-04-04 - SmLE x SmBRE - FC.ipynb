{
 "cells": [
  {
   "cell_type": "markdown",
   "metadata": {},
   "source": [
    "# 2020-04-04 SmLE x SmBRE\n",
    "\n",
    "\n",
    "## Aim\n",
    "\n",
    "Redo the analysis with the latest genome and everything\n",
    "\n",
    "\n",
    "## Environment and data"
   ]
  },
  {
   "cell_type": "code",
   "execution_count": null,
   "metadata": {},
   "outputs": [],
   "source": [
    "conda env create -f .env/env.yml"
   ]
  },
  {
   "cell_type": "code",
   "execution_count": 1,
   "metadata": {},
   "outputs": [
    {
     "name": "stdout",
     "output_type": "stream",
     "text": [
      "(PZQ-R) "
     ]
    },
    {
     "ename": "",
     "evalue": "1",
     "output_type": "error",
     "traceback": []
    }
   ],
   "source": [
    "# Activate the environment\n",
    "source $(sed \"s,/bin/conda,,\" <<<$CONDA_EXE)/etc/profile.d/conda.sh\n",
    "conda activate PZQ-R"
   ]
  },
  {
   "cell_type": "markdown",
   "metadata": {},
   "source": [
    "### Genome"
   ]
  },
  {
   "cell_type": "code",
   "execution_count": null,
   "metadata": {},
   "outputs": [
    {
     "name": "stdout",
     "output_type": "stream",
     "text": [
      "(PZQ-R) (PZQ-R) (PZQ-R) --2020-05-13 15:22:46--  ftp://ftp.ebi.ac.uk/pub/databases/wormbase/parasite/releases/WBPS14/species/schistosoma_mansoni/PRJEA36577/schistosoma_mansoni.PRJEA36577.WBPS14.genomic.fa.gz\n",
      "           => ‘data/genome/schistosoma_mansoni.PRJEA36577.WBPS14.genomic.fa.gz’\n",
      "Resolving ftp.ebi.ac.uk... 193.62.197.74\n",
      "Connecting to ftp.ebi.ac.uk|193.62.197.74|:21... connected.\n",
      "Logging in as anonymous ... Logged in!\n",
      "==> SYST ... done.    ==> PWD ... done.\n",
      "==> TYPE I ... done.  ==> CWD (1) /pub/databases/wormbase/parasite/releases/WBPS14/species/schistosoma_mansoni/PRJEA36577 ... done.\n",
      "==> SIZE schistosoma_mansoni.PRJEA36577.WBPS14.genomic.fa.gz ... 120198881\n",
      "==> PASV ... done.    ==> RETR schistosoma_mansoni.PRJEA36577.WBPS14.genomic.fa.gz ... done.\n",
      "Length: 120198881 (115M) (unauthoritative)\n",
      "\n",
      "schistosoma_mansoni 100%[===================>] 114.63M   893KB/s    in 2m 38s  \n",
      "\n",
      "2020-05-13 15:25:25 (744 KB/s) - ‘data/genome/schistosoma_mansoni.PRJEA36577.WBPS14.genomic.fa.gz’ saved [120198881]\n",
      "\n",
      "(PZQ-R) (PZQ-R) (PZQ-R) (PZQ-R) (PZQ-R) [bwa_index] Pack FASTA... 3.48 sec\n",
      "[bwa_index] Construct BWT for the packed sequence...\n",
      "[BWTIncCreate] textLength=819158016, availableWord=69638524\n",
      "[BWTIncConstructFromPacked] 10 iterations done. 100000000 characters processed.\n",
      "[BWTIncConstructFromPacked] 20 iterations done. 198066176 characters processed.\n"
     ]
    }
   ],
   "source": [
    "gdir=\"data/genome\"\n",
    "[[ ! -d \"$gdir\" ]] && mkdir -p \"$gdir\"\n",
    "\n",
    "wget -P \"$gdir\" ftp://ftp.ebi.ac.uk/pub/databases/wormbase/parasite/releases/WBPS14/species/schistosoma_mansoni/PRJEA36577/schistosoma_mansoni.PRJEA36577.WBPS14.genomic.fa.gz\n",
    "\n",
    "pigz -d \"$gdir/schistosoma_mansoni.PRJEA36577.WBPS14.genomic.fa.gz\"\n",
    "\n",
    "# Preparing indices\n",
    "bwa index \"$gdir/schistosoma_mansoni.PRJEA36577.WBPS14.genomic.fa\"\n",
    "samtools faidx \"$gdir/schistosoma_mansoni.PRJEA36577.WBPS14.genomic.fa\"\n",
    "gatk CreateSequenceDictionary -R \"$gdir/schistosoma_mansoni.PRJEA36577.WBPS14.genomic.fa\""
   ]
  },
  {
   "cell_type": "markdown",
   "metadata": {},
   "source": [
    "### Known variants"
   ]
  },
  {
   "cell_type": "code",
   "execution_count": null,
   "metadata": {},
   "outputs": [],
   "source": [
    "# Index file\n",
    "gatk IndexFeatureFile -I \"$gdir/sm_dbSNP_v7.vcf\""
   ]
  },
  {
   "cell_type": "markdown",
   "metadata": {},
   "source": [
    "## Run snakemake pipeline"
   ]
  },
  {
   "cell_type": "code",
   "execution_count": null,
   "metadata": {},
   "outputs": [],
   "source": [
    "snakemake --snakefile snakefile --cluster \"qsub -V -cwd -o status -j y -r y -pe smp 12 -S /bin/bash\" --jobs 384 -w 300"
   ]
  }
 ],
 "metadata": {
  "kernelspec": {
   "display_name": "Bash",
   "language": "bash",
   "name": "bash"
  },
  "language_info": {
   "codemirror_mode": "shell",
   "file_extension": ".sh",
   "mimetype": "text/x-sh",
   "name": "bash"
  },
  "toc": {
   "base_numbering": 1,
   "nav_menu": {},
   "number_sections": false,
   "sideBar": true,
   "skip_h1_title": true,
   "title_cell": "Table of Contents",
   "title_sidebar": "Contents",
   "toc_cell": false,
   "toc_position": {
    "height": "calc(100% - 180px)",
    "left": "10px",
    "top": "150px",
    "width": "228px"
   },
   "toc_section_display": true,
   "toc_window_display": true
  },
  "varInspector": {
   "cols": {
    "lenName": 16,
    "lenType": 16,
    "lenVar": 40
   },
   "kernels_config": {
    "python": {
     "delete_cmd_postfix": "",
     "delete_cmd_prefix": "del ",
     "library": "var_list.py",
     "varRefreshCmd": "print(var_dic_list())"
    },
    "r": {
     "delete_cmd_postfix": ") ",
     "delete_cmd_prefix": "rm(",
     "library": "var_list.r",
     "varRefreshCmd": "cat(var_dic_list()) "
    }
   },
   "types_to_exclude": [
    "module",
    "function",
    "builtin_function_or_method",
    "instance",
    "_Feature"
   ],
   "window_display": false
  }
 },
 "nbformat": 4,
 "nbformat_minor": 4
}
