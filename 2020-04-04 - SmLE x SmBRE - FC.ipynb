{
 "cells": [
  {
   "cell_type": "markdown",
   "metadata": {},
   "source": [
    "# 2020-04-04 SmLE x SmBRE\n",
    "\n",
    "\n",
    "## Aim\n",
    "\n",
    "Redo the analysis with the latest genome and everything\n",
    "\n",
    "\n",
    "## Environment and data"
   ]
  },
  {
   "cell_type": "code",
   "execution_count": null,
   "metadata": {},
   "outputs": [],
   "source": [
    "conda env create -f .env/env.yml"
   ]
  },
  {
   "cell_type": "code",
   "execution_count": 1,
   "metadata": {},
   "outputs": [
    {
     "name": "stdout",
     "output_type": "stream",
     "text": [
      "(PZQ-R) "
     ]
    },
    {
     "ename": "",
     "evalue": "1",
     "output_type": "error",
     "traceback": []
    }
   ],
   "source": [
    "# Activate the environment\n",
    "source $(sed \"s,/bin/conda,,\" <<<$CONDA_EXE)/etc/profile.d/conda.sh\n",
    "conda activate PZQ-R"
   ]
  },
  {
   "cell_type": "markdown",
   "metadata": {},
   "source": [
    "### Genome"
   ]
  },
  {
   "cell_type": "code",
   "execution_count": 3,
   "metadata": {},
   "outputs": [
    {
     "name": "stdout",
     "output_type": "stream",
     "text": [
      "(PZQ-R) (PZQ-R) (PZQ-R) --2020-05-13 15:22:46--  ftp://ftp.ebi.ac.uk/pub/databases/wormbase/parasite/releases/WBPS14/species/schistosoma_mansoni/PRJEA36577/schistosoma_mansoni.PRJEA36577.WBPS14.genomic.fa.gz\n",
      "           => ‘data/genome/schistosoma_mansoni.PRJEA36577.WBPS14.genomic.fa.gz’\n",
      "Resolving ftp.ebi.ac.uk... 193.62.197.74\n",
      "Connecting to ftp.ebi.ac.uk|193.62.197.74|:21... connected.\n",
      "Logging in as anonymous ... Logged in!\n",
      "==> SYST ... done.    ==> PWD ... done.\n",
      "==> TYPE I ... done.  ==> CWD (1) /pub/databases/wormbase/parasite/releases/WBPS14/species/schistosoma_mansoni/PRJEA36577 ... done.\n",
      "==> SIZE schistosoma_mansoni.PRJEA36577.WBPS14.genomic.fa.gz ... 120198881\n",
      "==> PASV ... done.    ==> RETR schistosoma_mansoni.PRJEA36577.WBPS14.genomic.fa.gz ... done.\n",
      "Length: 120198881 (115M) (unauthoritative)\n",
      "\n",
      "schistosoma_mansoni 100%[===================>] 114.63M   893KB/s    in 2m 38s  \n",
      "\n",
      "2020-05-13 15:25:25 (744 KB/s) - ‘data/genome/schistosoma_mansoni.PRJEA36577.WBPS14.genomic.fa.gz’ saved [120198881]\n",
      "\n",
      "(PZQ-R) (PZQ-R) (PZQ-R) (PZQ-R) (PZQ-R) [bwa_index] Pack FASTA... 3.48 sec\n",
      "[bwa_index] Construct BWT for the packed sequence...\n",
      "[BWTIncCreate] textLength=819158016, availableWord=69638524\n",
      "[BWTIncConstructFromPacked] 10 iterations done. 100000000 characters processed.\n",
      "[BWTIncConstructFromPacked] 20 iterations done. 198066176 characters processed.\n",
      "[BWTIncConstructFromPacked] 30 iterations done. 286163216 characters processed.\n",
      "[BWTIncConstructFromPacked] 40 iterations done. 364460080 characters processed.\n",
      "[BWTIncConstructFromPacked] 50 iterations done. 434046528 characters processed.\n",
      "[BWTIncConstructFromPacked] 60 iterations done. 495891136 characters processed.\n",
      "[BWTIncConstructFromPacked] 70 iterations done. 550854768 characters processed.\n",
      "[BWTIncConstructFromPacked] 80 iterations done. 599702560 characters processed.\n",
      "[BWTIncConstructFromPacked] 90 iterations done. 643114592 characters processed.\n",
      "[BWTIncConstructFromPacked] 100 iterations done. 681695248 characters processed.\n",
      "[BWTIncConstructFromPacked] 110 iterations done. 715981840 characters processed.\n",
      "[BWTIncConstructFromPacked] 120 iterations done. 746451760 characters processed.\n",
      "[BWTIncConstructFromPacked] 130 iterations done. 773529536 characters processed.\n",
      "[BWTIncConstructFromPacked] 140 iterations done. 797592288 characters processed.\n",
      "[BWTIncConstructFromPacked] 150 iterations done. 818975312 characters processed.\n",
      "[bwt_gen] Finished constructing BWT in 151 iterations.\n",
      "[bwa_index] 338.84 seconds elapse.\n",
      "[bwa_index] Update BWT... 5.83 sec\n",
      "[bwa_index] Pack forward-only FASTA... 2.20 sec\n",
      "[bwa_index] Construct SA from BWT and Occ... 111.39 sec\n",
      "[main] Version: 0.7.17-r1188\n",
      "[main] CMD: bwa index data/genome/schistosoma_mansoni.PRJEA36577.WBPS14.genomic.fa\n",
      "[main] Real time: 503.100 sec; CPU: 461.750 sec\n",
      "(PZQ-R) samtools: error while loading shared libraries: libcrypto.so.1.0.0: cannot open shared object file: No such file or directory\n",
      "(PZQ-R) Using GATK jar /master/fcheval/local/pckg/python/miniconda3/envs/PZQ-R/share/gatk4-4.1.5.0-1/gatk-package-4.1.5.0-local.jar\n",
      "Running:\n",
      "    java -Dsamjdk.use_async_io_read_samtools=false -Dsamjdk.use_async_io_write_samtools=true -Dsamjdk.use_async_io_write_tribble=false -Dsamjdk.compression_level=2 -jar /master/fcheval/local/pckg/python/miniconda3/envs/PZQ-R/share/gatk4-4.1.5.0-1/gatk-package-4.1.5.0-local.jar CreateSequenceDictionary -R data/genome/schistosoma_mansoni.PRJEA36577.WBPS14.genomic.fa\n",
      "INFO\t2020-05-13 15:34:16\tCreateSequenceDictionary\tOutput dictionary will be written in data/genome/schistosoma_mansoni.PRJEA36577.WBPS14.genomic.dict\n",
      "15:34:16.418 INFO  NativeLibraryLoader - Loading libgkl_compression.so from jar:file:/master/fcheval/local/pckg/python/miniconda3/envs/PZQ-R/share/gatk4-4.1.5.0-1/gatk-package-4.1.5.0-local.jar!/com/intel/gkl/native/libgkl_compression.so\n",
      "[Wed May 13 15:34:16 CDT 2020] CreateSequenceDictionary  --REFERENCE data/genome/schistosoma_mansoni.PRJEA36577.WBPS14.genomic.fa  --TRUNCATE_NAMES_AT_WHITESPACE true --NUM_SEQUENCES 2147483647 --VERBOSITY INFO --QUIET false --VALIDATION_STRINGENCY STRICT --COMPRESSION_LEVEL 2 --MAX_RECORDS_IN_RAM 500000 --CREATE_INDEX false --CREATE_MD5_FILE false --GA4GH_CLIENT_SECRETS client_secrets.json --help false --version false --showHidden false --USE_JDK_DEFLATER false --USE_JDK_INFLATER false\n",
      "May 13, 2020 3:34:17 PM shaded.cloud_nio.com.google.auth.oauth2.ComputeEngineCredentials runningOnComputeEngine\n",
      "INFO: Failed to detect whether we are running on Google Compute Engine.\n",
      "[Wed May 13 15:34:17 CDT 2020] Executing as fcheval@bulmer on Linux 3.10.0-693.11.1.el7.x86_64 amd64; OpenJDK 64-Bit Server VM 1.8.0_152-release-1056-b12; Deflater: Intel; Inflater: Intel; Provider GCS is available; Picard version: Version:4.1.5.0\n",
      "[Wed May 13 15:34:21 CDT 2020] picard.sam.CreateSequenceDictionary done. Elapsed time: 0.09 minutes.\n",
      "Runtime.totalMemory()=1027080192\n",
      "Tool returned:\n",
      "0\n",
      "(PZQ-R) "
     ]
    },
    {
     "ename": "",
     "evalue": "1",
     "output_type": "error",
     "traceback": []
    }
   ],
   "source": [
    "gdir=\"data/genome\"\n",
    "[[ ! -d \"$gdir\" ]] && mkdir -p \"$gdir\"\n",
    "\n",
    "wget -P \"$gdir\" ftp://ftp.ebi.ac.uk/pub/databases/wormbase/parasite/releases/WBPS14/species/schistosoma_mansoni/PRJEA36577/schistosoma_mansoni.PRJEA36577.WBPS14.genomic.fa.gz\n",
    "\n",
    "pigz -d \"$gdir/schistosoma_mansoni.PRJEA36577.WBPS14.genomic.fa.gz\"\n",
    "\n",
    "# Preparing indices\n",
    "bwa index \"$gdir/schistosoma_mansoni.PRJEA36577.WBPS14.genomic.fa\"\n",
    "samtools faidx \"$gdir/schistosoma_mansoni.PRJEA36577.WBPS14.genomic.fa\"\n",
    "gatk CreateSequenceDictionary -R \"$gdir/schistosoma_mansoni.PRJEA36577.WBPS14.genomic.fa\""
   ]
  },
  {
   "cell_type": "markdown",
   "metadata": {},
   "source": [
    "### Library"
   ]
  },
  {
   "cell_type": "code",
   "execution_count": 4,
   "metadata": {},
   "outputs": [
    {
     "name": "stdout",
     "output_type": "stream",
     "text": [
      "(PZQ-R) (PZQ-R) (PZQ-R) (PZQ-R) "
     ]
    },
    {
     "ename": "",
     "evalue": "1",
     "output_type": "error",
     "traceback": []
    }
   ],
   "source": [
    "ldir=\"data/libraries/\"\n",
    "[[ ! -d \"$ldir\" ]] && mkdir -p \"$ldir\"\n",
    "\n",
    "# Linking F2\n",
    "data_ln.sh -d ../2016-05-17\\ SmLE\\ x\\ SmBRE/0-Libraries/A -e *F2*fastq.gz -t data/libraries/\n",
    "data_ln.sh -d ../2016-05-17\\ SmLE\\ x\\ SmBRE/0-Libraries/B -e *F2*fastq.gz -t data/libraries/\n",
    "data_ln.sh -d ../2016-05-17\\ SmLE\\ x\\ SmBRE/0-Libraries_2/ -e *fastq.gz -t data/libraries/\n",
    "data_ln.sh -d ../2016-05-17\\ SmLE\\ x\\ SmBRE/0-Libraries_3/B -e *fastq.gz -t data/libraries/\n",
    "\n",
    "# Linking F1\n",
    "data_ln.sh -d ../2016-05-17\\ SmLE\\ x\\ SmBRE/0-Libraries/A -e *F1*fastq.gz -t data/libraries/\n",
    "data_ln.sh -d ../2016-05-17\\ SmLE\\ x\\ SmBRE/0-Libraries/B -e *F1*fastq.gz -t data/libraries/\n",
    "\n",
    "# Linking parents\n",
    "data_ln.sh -d ../2016-05-17\\ SmLE\\ x\\ SmBRE/0-Libraries/WGS_parents/ -e *fastq.gz -t data/libraries/"
   ]
  },
  {
   "cell_type": "markdown",
   "metadata": {},
   "source": [
    "### Known variants\n",
    "\n",
    "List of variants from the SmLE x SmHR cross that segregated in a Mendelian fashion in F1. This list was generated from alignments using the v5 genome. This has been lifted over to the latest genome using the [flo pipeline](https://github.com/wurmlab/flo/tree/727f10b2b1c57a0514835d302d7f6345d3a34ffb)."
   ]
  },
  {
   "cell_type": "code",
   "execution_count": null,
   "metadata": {},
   "outputs": [],
   "source": [
    "# Index file\n",
    "gatk IndexFeatureFile -I \"$gdir/sm_dbSNP_v7.vcf\""
   ]
  },
  {
   "cell_type": "markdown",
   "metadata": {},
   "source": [
    "## Run snakemake pipeline"
   ]
  },
  {
   "cell_type": "code",
   "execution_count": null,
   "metadata": {},
   "outputs": [],
   "source": [
    "snakemake --snakefile snakefile --cluster \"qsub -V -cwd -o status -j y -r y -pe smp 12 -S /bin/bash\" --jobs 384 -w 300"
   ]
  }
 ],
 "metadata": {
  "kernelspec": {
   "display_name": "Bash",
   "language": "bash",
   "name": "bash"
  },
  "language_info": {
   "codemirror_mode": "shell",
   "file_extension": ".sh",
   "mimetype": "text/x-sh",
   "name": "bash"
  },
  "toc": {
   "base_numbering": 1,
   "nav_menu": {},
   "number_sections": false,
   "sideBar": true,
   "skip_h1_title": true,
   "title_cell": "Table of Contents",
   "title_sidebar": "Contents",
   "toc_cell": false,
   "toc_position": {
    "height": "calc(100% - 180px)",
    "left": "10px",
    "top": "150px",
    "width": "228px"
   },
   "toc_section_display": true,
   "toc_window_display": true
  },
  "varInspector": {
   "cols": {
    "lenName": 16,
    "lenType": 16,
    "lenVar": 40
   },
   "kernels_config": {
    "python": {
     "delete_cmd_postfix": "",
     "delete_cmd_prefix": "del ",
     "library": "var_list.py",
     "varRefreshCmd": "print(var_dic_list())"
    },
    "r": {
     "delete_cmd_postfix": ") ",
     "delete_cmd_prefix": "rm(",
     "library": "var_list.r",
     "varRefreshCmd": "cat(var_dic_list()) "
    }
   },
   "types_to_exclude": [
    "module",
    "function",
    "builtin_function_or_method",
    "instance",
    "_Feature"
   ],
   "window_display": false
  }
 },
 "nbformat": 4,
 "nbformat_minor": 4
}
